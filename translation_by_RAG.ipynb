{
 "cells": [
  {
   "cell_type": "markdown",
   "id": "c74872ff-5602-47f4-8c9d-e5aac1aaffcf",
   "metadata": {},
   "source": [
    "참고: https://revf.tistory.com/280"
   ]
  },
  {
   "cell_type": "markdown",
   "id": "d98a0c9e-1e87-4c6a-a987-fbaeea78a1b2",
   "metadata": {},
   "source": [
    "# OpenAI (text-davinci-003) 활용 RAG 기반 다국어 통역 성능 테스트"
   ]
  },
  {
   "cell_type": "code",
   "execution_count": 1,
   "id": "5eb7b115-4514-41f9-8a85-554cd57d91b1",
   "metadata": {
    "execution": {
     "iopub.execute_input": "2023-10-11T08:58:29.642227Z",
     "iopub.status.busy": "2023-10-11T08:58:29.641226Z",
     "iopub.status.idle": "2023-10-11T08:58:29.653512Z",
     "shell.execute_reply": "2023-10-11T08:58:29.652617Z",
     "shell.execute_reply.started": "2023-10-11T08:58:29.642178Z"
    },
    "tags": []
   },
   "outputs": [],
   "source": [
    "from langchain.chat_models import ChatOpenAI\n",
    "from langchain.schema import HumanMessage, SystemMessage, AIMessage"
   ]
  },
  {
   "cell_type": "code",
   "execution_count": 4,
   "id": "5ca059fb-0aac-4a70-a529-f8cae6f820d4",
   "metadata": {
    "execution": {
     "iopub.execute_input": "2023-10-11T08:59:42.738702Z",
     "iopub.status.busy": "2023-10-11T08:59:42.737943Z",
     "iopub.status.idle": "2023-10-11T08:59:42.745554Z",
     "shell.execute_reply": "2023-10-11T08:59:42.744610Z",
     "shell.execute_reply.started": "2023-10-11T08:59:42.738665Z"
    },
    "tags": []
   },
   "outputs": [],
   "source": [
    "import json"
   ]
  },
  {
   "cell_type": "code",
   "execution_count": 10,
   "id": "af69bc39-a042-457c-ad55-6767ce5ba944",
   "metadata": {
    "execution": {
     "iopub.execute_input": "2023-10-11T09:01:59.016861Z",
     "iopub.status.busy": "2023-10-11T09:01:59.016557Z",
     "iopub.status.idle": "2023-10-11T09:01:59.020473Z",
     "shell.execute_reply": "2023-10-11T09:01:59.019952Z",
     "shell.execute_reply.started": "2023-10-11T09:01:59.016847Z"
    },
    "tags": []
   },
   "outputs": [],
   "source": [
    "with open(\"./secrets.json\") as f:\n",
    "    SECRETS = json.load(f)\n",
    "    \n",
    "openai_api_key = SECRETS['OPENAI_KEY']"
   ]
  },
  {
   "cell_type": "code",
   "execution_count": 11,
   "id": "b4f8cd88-7335-4536-b003-41d109cd1a43",
   "metadata": {
    "execution": {
     "iopub.execute_input": "2023-10-11T09:02:10.461745Z",
     "iopub.status.busy": "2023-10-11T09:02:10.460736Z",
     "iopub.status.idle": "2023-10-11T09:02:10.491891Z",
     "shell.execute_reply": "2023-10-11T09:02:10.491471Z",
     "shell.execute_reply.started": "2023-10-11T09:02:10.461705Z"
    },
    "tags": []
   },
   "outputs": [],
   "source": [
    "chat = ChatOpenAI(temperature=.7, openai_api_key=openai_api_key)"
   ]
  },
  {
   "cell_type": "markdown",
   "id": "35ab1b4d-a71b-49cf-8162-742c37e391ce",
   "metadata": {},
   "source": [
    "# Schema"
   ]
  },
  {
   "cell_type": "markdown",
   "id": "5c1fc7c4-db8c-4a38-b6a0-4016b666cb1a",
   "metadata": {},
   "source": [
    "## 채팅메시지"
   ]
  },
  {
   "cell_type": "code",
   "execution_count": 12,
   "id": "80808596-7e0d-41d5-b085-a8dde84616d6",
   "metadata": {
    "execution": {
     "iopub.execute_input": "2023-10-11T09:04:00.830294Z",
     "iopub.status.busy": "2023-10-11T09:04:00.829283Z",
     "iopub.status.idle": "2023-10-11T09:04:02.688291Z",
     "shell.execute_reply": "2023-10-11T09:04:02.687085Z",
     "shell.execute_reply.started": "2023-10-11T09:04:00.830248Z"
    },
    "tags": []
   },
   "outputs": [
    {
     "data": {
      "text/plain": [
       "AIMessage(content=\"I'm here to cancel my account with a limit.\", additional_kwargs={}, example=False)"
      ]
     },
     "execution_count": 12,
     "metadata": {},
     "output_type": "execute_result"
    }
   ],
   "source": [
    "chat(\n",
    "    [\n",
    "        SystemMessage(content=\"당신은 금융 통역 AI 봇입니다. 주어진 문장을 영어로 자연스럽게 번역해주세요.\"),\n",
    "        HumanMessage(content=\"한도제한계좌를 해지하러 왔습니다.\")\n",
    "    ]\n",
    ")"
   ]
  },
  {
   "cell_type": "markdown",
   "id": "2d0e9ed3-8d45-41c0-8895-d961027f53ab",
   "metadata": {},
   "source": [
    "## 문서"
   ]
  },
  {
   "cell_type": "code",
   "execution_count": 13,
   "id": "32b55c48-cd49-4990-952c-9a43ddad37a0",
   "metadata": {
    "execution": {
     "iopub.execute_input": "2023-10-11T09:05:24.874812Z",
     "iopub.status.busy": "2023-10-11T09:05:24.872939Z",
     "iopub.status.idle": "2023-10-11T09:05:24.886156Z",
     "shell.execute_reply": "2023-10-11T09:05:24.882311Z",
     "shell.execute_reply.started": "2023-10-11T09:05:24.874748Z"
    },
    "tags": []
   },
   "outputs": [],
   "source": [
    "from langchain.schema import Document"
   ]
  },
  {
   "cell_type": "code",
   "execution_count": 14,
   "id": "2652af2e-684f-4478-a738-f63eef31c142",
   "metadata": {
    "execution": {
     "iopub.execute_input": "2023-10-11T09:07:33.847632Z",
     "iopub.status.busy": "2023-10-11T09:07:33.846751Z",
     "iopub.status.idle": "2023-10-11T09:07:33.865111Z",
     "shell.execute_reply": "2023-10-11T09:07:33.864239Z",
     "shell.execute_reply.started": "2023-10-11T09:07:33.847555Z"
    },
    "tags": []
   },
   "outputs": [
    {
     "data": {
      "text/plain": [
       "Document(page_content='한도제한계좌란 입출금이 자유로운 요구불계좌 신규 시 금융거래 목적에 대한 객관적인 증빙서류가 제출되지 않아 일반계좌 개설이 불가능한 경우에 개설되는 계좌이다.', metadata={'my_document_id': 1, 'my_document_source': 'google search', 'my_document_create_time': 1680013019})"
      ]
     },
     "execution_count": 14,
     "metadata": {},
     "output_type": "execute_result"
    }
   ],
   "source": [
    "Document(page_content=\"한도제한계좌란 입출금이 자유로운 요구불계좌 신규 시 금융거래 목적에 대한 객관적인 증빙서류가 제출되지 않아 일반계좌 개설이 불가능한 경우에 개설되는 계좌이다.\",\n",
    "        metadata={\n",
    "            'my_document_id': 1,\n",
    "            'my_document_source': 'google search',\n",
    "            'my_document_create_time': 1680013019\n",
    "        },\n",
    "        lookup_index=0)"
   ]
  },
  {
   "cell_type": "code",
   "execution_count": 15,
   "id": "f4938e68-e5b1-4798-9e7c-fd3ac843c11c",
   "metadata": {
    "execution": {
     "iopub.execute_input": "2023-10-11T09:09:07.441252Z",
     "iopub.status.busy": "2023-10-11T09:09:07.439382Z",
     "iopub.status.idle": "2023-10-11T09:09:07.455312Z",
     "shell.execute_reply": "2023-10-11T09:09:07.452800Z",
     "shell.execute_reply.started": "2023-10-11T09:09:07.441120Z"
    },
    "tags": []
   },
   "outputs": [],
   "source": [
    "# from langchain.document_loaders import PyPDFLoader"
   ]
  },
  {
   "cell_type": "markdown",
   "id": "851e8da7-641f-4513-b3cd-e0c94a2f9485",
   "metadata": {},
   "source": [
    "# Models"
   ]
  },
  {
   "cell_type": "markdown",
   "id": "27cdecb3-f281-4659-be25-39069eac25ce",
   "metadata": {},
   "source": [
    "## template 이용"
   ]
  },
  {
   "cell_type": "code",
   "execution_count": 26,
   "id": "4aa226fc-8104-4431-98e8-e6fca8903ce1",
   "metadata": {
    "execution": {
     "iopub.execute_input": "2023-10-11T09:14:14.709090Z",
     "iopub.status.busy": "2023-10-11T09:14:14.707823Z",
     "iopub.status.idle": "2023-10-11T09:14:14.717850Z",
     "shell.execute_reply": "2023-10-11T09:14:14.716739Z",
     "shell.execute_reply.started": "2023-10-11T09:14:14.709024Z"
    },
    "tags": []
   },
   "outputs": [],
   "source": [
    "from langchain.prompts import SystemMessagePromptTemplate, HumanMessagePromptTemplate, ChatPromptTemplate"
   ]
  },
  {
   "cell_type": "code",
   "execution_count": 28,
   "id": "f10c644f-a3ab-4c25-9ed0-7c2b394a5839",
   "metadata": {
    "execution": {
     "iopub.execute_input": "2023-10-11T09:14:24.312491Z",
     "iopub.status.busy": "2023-10-11T09:14:24.312056Z",
     "iopub.status.idle": "2023-10-11T09:14:24.321898Z",
     "shell.execute_reply": "2023-10-11T09:14:24.320732Z",
     "shell.execute_reply.started": "2023-10-11T09:14:24.312449Z"
    },
    "tags": []
   },
   "outputs": [],
   "source": [
    "template=\"당신은 {input_language}를 {output_language}로 번역하는 유용한 금융 전문 통역봇입니다.\"\n",
    "system_message_prompt = SystemMessagePromptTemplate.from_template(template)\n",
    "\n",
    "human_template=\"{text}\"\n",
    "human_message_prompt = HumanMessagePromptTemplate.from_template(human_template)\n",
    "\n",
    "chat_prompt = ChatPromptTemplate.from_messages([system_message_prompt, human_message_prompt])"
   ]
  },
  {
   "cell_type": "code",
   "execution_count": 31,
   "id": "a495bfb2-a096-41ed-bbb6-45170fc68055",
   "metadata": {
    "execution": {
     "iopub.execute_input": "2023-10-11T09:16:01.993542Z",
     "iopub.status.busy": "2023-10-11T09:16:01.992657Z",
     "iopub.status.idle": "2023-10-11T09:16:03.383169Z",
     "shell.execute_reply": "2023-10-11T09:16:03.375938Z",
     "shell.execute_reply.started": "2023-10-11T09:16:01.993505Z"
    },
    "tags": []
   },
   "outputs": [
    {
     "data": {
      "text/plain": [
       "AIMessage(content='I would like to cancel the limit of my account.', additional_kwargs={}, example=False)"
      ]
     },
     "execution_count": 31,
     "metadata": {},
     "output_type": "execute_result"
    }
   ],
   "source": [
    "# 형식이 지정된 메시지에서 채팅 완료 가져오기\n",
    "chat(\n",
    "    chat_prompt.format_prompt(\n",
    "        input_language=\"Korean\",\n",
    "        output_language=\"English\",\n",
    "        text=\"한도제한계좌의 한도를 해지하고 싶습니다.\"\n",
    "    ).to_messages()\n",
    ")"
   ]
  },
  {
   "cell_type": "markdown",
   "id": "9b6ba82e-fa74-4fe8-933b-decb415bf3f4",
   "metadata": {},
   "source": [
    "## 텍스트 임베딩 모델"
   ]
  },
  {
   "cell_type": "code",
   "execution_count": 32,
   "id": "d1c46ce5-6d92-4b87-ad69-386914cc2f2e",
   "metadata": {
    "execution": {
     "iopub.execute_input": "2023-10-11T09:16:58.027928Z",
     "iopub.status.busy": "2023-10-11T09:16:58.027512Z",
     "iopub.status.idle": "2023-10-11T09:16:58.035224Z",
     "shell.execute_reply": "2023-10-11T09:16:58.033823Z",
     "shell.execute_reply.started": "2023-10-11T09:16:58.027902Z"
    },
    "tags": []
   },
   "outputs": [],
   "source": [
    "from langchain.embeddings import OpenAIEmbeddings"
   ]
  },
  {
   "cell_type": "code",
   "execution_count": 35,
   "id": "5516123e-3cae-47ab-a992-7199821489fd",
   "metadata": {
    "execution": {
     "iopub.execute_input": "2023-10-11T09:18:20.149413Z",
     "iopub.status.busy": "2023-10-11T09:18:20.148237Z",
     "iopub.status.idle": "2023-10-11T09:18:20.692503Z",
     "shell.execute_reply": "2023-10-11T09:18:20.691008Z",
     "shell.execute_reply.started": "2023-10-11T09:18:20.149357Z"
    },
    "tags": []
   },
   "outputs": [],
   "source": [
    "embeddings = OpenAIEmbeddings(openai_api_key=openai_api_key)   # model_name=\"ada\"\n",
    "text = \"안녕하세요. 한도제한계좌의 한도를 해지하러 왔습니다.\"\n",
    "text_embedding = embeddings.embed_query(text)"
   ]
  },
  {
   "cell_type": "code",
   "execution_count": 36,
   "id": "a31e865d-a61a-47ff-a23b-954d1e58d1a8",
   "metadata": {
    "execution": {
     "iopub.execute_input": "2023-10-11T09:19:02.335896Z",
     "iopub.status.busy": "2023-10-11T09:19:02.334252Z",
     "iopub.status.idle": "2023-10-11T09:19:02.350945Z",
     "shell.execute_reply": "2023-10-11T09:19:02.350387Z",
     "shell.execute_reply.started": "2023-10-11T09:19:02.335847Z"
    },
    "tags": []
   },
   "outputs": [
    {
     "name": "stdout",
     "output_type": "stream",
     "text": [
      "임베딩 길이 : 1536\n",
      "샘플은 다음과 같습니다 : [0.004952843300998211, -0.040054306387901306, -0.008051319979131222, -0.026554523035883904, -0.02718837931752205]...\n"
     ]
    }
   ],
   "source": [
    "print(f\"임베딩 길이 : {len(text_embedding)}\")\n",
    "print(f\"샘플은 다음과 같습니다 : {text_embedding[:5]}...\")"
   ]
  },
  {
   "cell_type": "markdown",
   "id": "cf24750c-06bb-452f-97a0-56af7c70bffc",
   "metadata": {},
   "source": [
    "# Prompt"
   ]
  },
  {
   "cell_type": "markdown",
   "id": "81d3ee4d-80f8-4e4d-91c6-64e8f05b8241",
   "metadata": {},
   "source": [
    "## Prompt Template"
   ]
  },
  {
   "cell_type": "code",
   "execution_count": 37,
   "id": "85884082-5ba8-45da-986f-19c783a73145",
   "metadata": {
    "execution": {
     "iopub.execute_input": "2023-10-11T09:20:28.594770Z",
     "iopub.status.busy": "2023-10-11T09:20:28.593518Z",
     "iopub.status.idle": "2023-10-11T09:20:28.608621Z",
     "shell.execute_reply": "2023-10-11T09:20:28.607748Z",
     "shell.execute_reply.started": "2023-10-11T09:20:28.594715Z"
    },
    "tags": []
   },
   "outputs": [],
   "source": [
    "from langchain import PromptTemplate"
   ]
  },
  {
   "cell_type": "code",
   "execution_count": 38,
   "id": "236c3c5e-8a48-49f2-9ff1-4dcdb1d3eec2",
   "metadata": {
    "execution": {
     "iopub.execute_input": "2023-10-11T09:23:29.746720Z",
     "iopub.status.busy": "2023-10-11T09:23:29.746278Z",
     "iopub.status.idle": "2023-10-11T09:23:29.749857Z",
     "shell.execute_reply": "2023-10-11T09:23:29.749055Z",
     "shell.execute_reply.started": "2023-10-11T09:23:29.746702Z"
    },
    "tags": []
   },
   "outputs": [],
   "source": [
    "template = \"\"\"\n",
    "금융용어에 관한 설명을 영어로 번역해 해주세요.\n",
    "다음은 한도제한계좌에 관한 설명입니다.\n",
    "- 한도제한계좌란 입출금이 자유로운 요구불계좌 신규 시 금융거래 목적에 대한 객관적인 증빙서류가 제출되지 않아 일반계좌 개설이 불가능한 경우에 개설되는 계좌이다.\n",
    "\n",
    "번역된 결과는 원어민이 알아듣기 쉽도록 자연스러워야 합니다.\n",
    "{keyword}란 무엇인가요?\n",
    "\"\"\"\n",
    "\n",
    "prompt = PromptTemplate(\n",
    "    input_variables=[\"keyword\"],\n",
    "    template=template\n",
    ")"
   ]
  },
  {
   "cell_type": "markdown",
   "id": "4c2a96e0-69cd-4930-8b8d-b25c853ae507",
   "metadata": {},
   "source": [
    "## Prmopt Template Class"
   ]
  },
  {
   "cell_type": "code",
   "execution_count": 39,
   "id": "c7a73be6-dbbe-449d-ba45-358926c72788",
   "metadata": {
    "execution": {
     "iopub.execute_input": "2023-10-11T09:25:49.347989Z",
     "iopub.status.busy": "2023-10-11T09:25:49.347205Z",
     "iopub.status.idle": "2023-10-11T09:25:49.359492Z",
     "shell.execute_reply": "2023-10-11T09:25:49.358806Z",
     "shell.execute_reply.started": "2023-10-11T09:25:49.347952Z"
    },
    "tags": []
   },
   "outputs": [],
   "source": [
    "multiple_input_prompt = PromptTemplate(\n",
    "    input_variables=['keyword', 'input_language', 'output_language'],\n",
    "    template=\"Translate a {input_language}: {keyword}  to {output_language}: \"\n",
    ")"
   ]
  },
  {
   "cell_type": "code",
   "execution_count": 40,
   "id": "dc73bd64-4f7f-40ee-a50f-b9c201d99dff",
   "metadata": {
    "execution": {
     "iopub.execute_input": "2023-10-11T09:26:23.892973Z",
     "iopub.status.busy": "2023-10-11T09:26:23.891100Z",
     "iopub.status.idle": "2023-10-11T09:26:23.915003Z",
     "shell.execute_reply": "2023-10-11T09:26:23.914265Z",
     "shell.execute_reply.started": "2023-10-11T09:26:23.892913Z"
    },
    "tags": []
   },
   "outputs": [
    {
     "data": {
      "text/plain": [
       "'Translate a Korean: 한도제한계좌  to English: '"
      ]
     },
     "execution_count": 40,
     "metadata": {},
     "output_type": "execute_result"
    }
   ],
   "source": [
    "multiple_input_prompt.format(input_language=\"Korean\", output_language=\"English\", keyword=\"한도제한계좌\")"
   ]
  },
  {
   "cell_type": "markdown",
   "id": "64f6c343-4e32-495e-b028-7db55e7ab759",
   "metadata": {},
   "source": [
    "## Example Selector"
   ]
  },
  {
   "cell_type": "code",
   "execution_count": 42,
   "id": "82a6022d-8063-427e-8c4b-4f8b9c2062ac",
   "metadata": {
    "execution": {
     "iopub.execute_input": "2023-10-11T09:30:50.823823Z",
     "iopub.status.busy": "2023-10-11T09:30:50.822677Z",
     "iopub.status.idle": "2023-10-11T09:30:50.834553Z",
     "shell.execute_reply": "2023-10-11T09:30:50.833625Z",
     "shell.execute_reply.started": "2023-10-11T09:30:50.823780Z"
    },
    "tags": []
   },
   "outputs": [],
   "source": [
    "from langchain.prompts.example_selector import SemanticSimilarityExampleSelector\n",
    "from langchain.vectorstores import FAISS\n",
    "from langchain.embeddings import OpenAIEmbeddings\n",
    "from langchain.prompts import FewShotPromptTemplate, PromptTemplate\n",
    "from langchain.llms import OpenAI"
   ]
  },
  {
   "cell_type": "code",
   "execution_count": 46,
   "id": "7cf82e71-8792-48a7-9870-7ef972d4b7a2",
   "metadata": {
    "execution": {
     "iopub.execute_input": "2023-10-11T09:32:28.479073Z",
     "iopub.status.busy": "2023-10-11T09:32:28.478245Z",
     "iopub.status.idle": "2023-10-11T09:32:28.491804Z",
     "shell.execute_reply": "2023-10-11T09:32:28.490420Z",
     "shell.execute_reply.started": "2023-10-11T09:32:28.479032Z"
    },
    "tags": []
   },
   "outputs": [],
   "source": [
    "llm = OpenAI(model_name=\"text-davinci-003\", openai_api_key=openai_api_key)\n",
    "example_prompt = PromptTemplate(\n",
    "    input_variables=['input', 'output'],\n",
    "    template=\"Example Input: {input}\\nExample Output: {output}\"\n",
    ")"
   ]
  },
  {
   "cell_type": "code",
   "execution_count": 47,
   "id": "234479ea-2bd6-44f2-bc5c-51f54ea6dab0",
   "metadata": {
    "execution": {
     "iopub.execute_input": "2023-10-11T09:32:46.926251Z",
     "iopub.status.busy": "2023-10-11T09:32:46.925128Z",
     "iopub.status.idle": "2023-10-11T09:32:46.940117Z",
     "shell.execute_reply": "2023-10-11T09:32:46.938987Z",
     "shell.execute_reply.started": "2023-10-11T09:32:46.926183Z"
    },
    "tags": []
   },
   "outputs": [],
   "source": [
    "# 명사가 발견되는 위치의 예\n",
    "examples = [\n",
    "  {\"input\": \"pirate\", \"output\": \"ship\"},\n",
    "  {\"input\": \"pilot\", \"output\": \"plane\"},\n",
    "  {\"input\": \"driver\", \"output\": \"car\"},\n",
    "  {\"input\": \"tree\", \"output\": \"ground\"},\n",
    "  {\"input\": \"bird\", \"output\": \"nest\"},\n",
    "]"
   ]
  },
  {
   "cell_type": "code",
   "execution_count": 52,
   "id": "1d13e6d1-de20-4491-a074-d81e71831fe8",
   "metadata": {
    "execution": {
     "iopub.execute_input": "2023-10-11T09:36:40.247645Z",
     "iopub.status.busy": "2023-10-11T09:36:40.246487Z",
     "iopub.status.idle": "2023-10-11T09:36:41.263209Z",
     "shell.execute_reply": "2023-10-11T09:36:41.262646Z",
     "shell.execute_reply.started": "2023-10-11T09:36:40.247579Z"
    },
    "tags": []
   },
   "outputs": [],
   "source": [
    "# SemanticSimilarityExampleSelector는 의미론적 의미에 따라 입력과 유사한 예제를 선택합니다.\n",
    "example_selector = SemanticSimilarityExampleSelector.from_examples(\n",
    "    examples,\n",
    "    OpenAIEmbeddings(openai_api_key=openai_api_key),    # 의미적 유사성을 측정하는 데 사용되는 임베딩을 생성하는 데 사용되는 임베딩 클래스\n",
    "    FAISS,    # 임베딩을 저장하고 유사성 검색을 수행하는 데 사용되는 VectorStore 클래스\n",
    "    k=2    # 생성할 예제 개수\n",
    ")"
   ]
  },
  {
   "cell_type": "code",
   "execution_count": 54,
   "id": "32962a7e-8c71-48b0-a518-ffadfbe852a6",
   "metadata": {
    "execution": {
     "iopub.execute_input": "2023-10-11T09:38:58.938833Z",
     "iopub.status.busy": "2023-10-11T09:38:58.938082Z",
     "iopub.status.idle": "2023-10-11T09:38:58.952144Z",
     "shell.execute_reply": "2023-10-11T09:38:58.950445Z",
     "shell.execute_reply.started": "2023-10-11T09:38:58.938794Z"
    },
    "tags": []
   },
   "outputs": [],
   "source": [
    "similar_prompt = FewShotPromptTemplate(\n",
    "    example_selector=example_selector,    # 예제 선택에 도움이 되는 개체\n",
    "    example_prompt=example_prompt,\n",
    "    prefix=\"Give the location an item is usually found in\",    # 프롬프트 상단과 하단에 추가되는 사용자 지정 사항\n",
    "    suffix=\"Input: {noun}\\nOutput:\",\n",
    "    input_variables=['noun']\n",
    ")"
   ]
  },
  {
   "cell_type": "code",
   "execution_count": 55,
   "id": "042b42ca-a584-42d6-9f97-56a3b3ef2f1e",
   "metadata": {
    "execution": {
     "iopub.execute_input": "2023-10-11T09:39:09.557001Z",
     "iopub.status.busy": "2023-10-11T09:39:09.555974Z",
     "iopub.status.idle": "2023-10-11T09:39:09.571082Z",
     "shell.execute_reply": "2023-10-11T09:39:09.569002Z",
     "shell.execute_reply.started": "2023-10-11T09:39:09.556937Z"
    },
    "tags": []
   },
   "outputs": [],
   "source": [
    "my_noun = \"account\""
   ]
  },
  {
   "cell_type": "code",
   "execution_count": 56,
   "id": "80e9c2ce-f66f-45a7-b77e-67c7b3903dd1",
   "metadata": {
    "execution": {
     "iopub.execute_input": "2023-10-11T09:39:25.982709Z",
     "iopub.status.busy": "2023-10-11T09:39:25.981782Z",
     "iopub.status.idle": "2023-10-11T09:39:26.466982Z",
     "shell.execute_reply": "2023-10-11T09:39:26.465887Z",
     "shell.execute_reply.started": "2023-10-11T09:39:25.982638Z"
    },
    "tags": []
   },
   "outputs": [
    {
     "name": "stdout",
     "output_type": "stream",
     "text": [
      "Give the location an item is usually found in\n",
      "\n",
      "Example Input: tree\n",
      "Example Output: ground\n",
      "\n",
      "Example Input: driver\n",
      "Example Output: car\n",
      "\n",
      "Input: account\n",
      "Output:\n"
     ]
    }
   ],
   "source": [
    "print(similar_prompt.format(noun=my_noun))"
   ]
  },
  {
   "cell_type": "code",
   "execution_count": 57,
   "id": "97094186-7034-4e83-98b3-d0e71fdc0483",
   "metadata": {
    "execution": {
     "iopub.execute_input": "2023-10-11T09:40:03.736018Z",
     "iopub.status.busy": "2023-10-11T09:40:03.734724Z",
     "iopub.status.idle": "2023-10-11T09:40:04.476705Z",
     "shell.execute_reply": "2023-10-11T09:40:04.474595Z",
     "shell.execute_reply.started": "2023-10-11T09:40:03.735964Z"
    },
    "tags": []
   },
   "outputs": [
    {
     "data": {
      "text/plain": [
       "' bank'"
      ]
     },
     "execution_count": 57,
     "metadata": {},
     "output_type": "execute_result"
    }
   ],
   "source": [
    "llm(similar_prompt.format(noun=my_noun))"
   ]
  },
  {
   "cell_type": "markdown",
   "id": "52ee2f85-6875-447c-a7a0-a28ce8e5582c",
   "metadata": {},
   "source": [
    "## Output Parser"
   ]
  },
  {
   "cell_type": "markdown",
   "id": "709ae655-552e-4b45-a6ea-2ec46c9d43af",
   "metadata": {},
   "source": [
    "- Format instructions: 원하는 결과의 포맷을 지정하여 LLM에게 지시\n",
    "- Parser: 원하는 텍스트를 출력 구조 (보통 json)을 추출하도록 함"
   ]
  },
  {
   "cell_type": "code",
   "execution_count": 58,
   "id": "e4710219-b0d2-4956-b0f2-1fa3b75d612e",
   "metadata": {
    "execution": {
     "iopub.execute_input": "2023-10-11T09:41:53.578628Z",
     "iopub.status.busy": "2023-10-11T09:41:53.577623Z",
     "iopub.status.idle": "2023-10-11T09:41:53.593467Z",
     "shell.execute_reply": "2023-10-11T09:41:53.587251Z",
     "shell.execute_reply.started": "2023-10-11T09:41:53.578590Z"
    },
    "tags": []
   },
   "outputs": [],
   "source": [
    "# from langchain.output_parsers import CommaSeparatedListOutputParser"
   ]
  },
  {
   "cell_type": "code",
   "execution_count": 59,
   "id": "d49db453-a799-4aea-9c04-76f018640cbf",
   "metadata": {
    "execution": {
     "iopub.execute_input": "2023-10-11T09:45:06.018073Z",
     "iopub.status.busy": "2023-10-11T09:45:06.017252Z",
     "iopub.status.idle": "2023-10-11T09:45:06.029073Z",
     "shell.execute_reply": "2023-10-11T09:45:06.023978Z",
     "shell.execute_reply.started": "2023-10-11T09:45:06.018007Z"
    },
    "tags": []
   },
   "outputs": [],
   "source": [
    "from langchain.output_parsers import StructuredOutputParser, ResponseSchema\n",
    "from langchain.prompts import ChatPromptTemplate, HumanMessagePromptTemplate\n",
    "from langchain.llms import OpenAI"
   ]
  },
  {
   "cell_type": "code",
   "execution_count": 60,
   "id": "3cb08d7a-4900-450d-a630-3948b2cdb9b8",
   "metadata": {
    "execution": {
     "iopub.execute_input": "2023-10-11T09:45:27.827295Z",
     "iopub.status.busy": "2023-10-11T09:45:27.826839Z",
     "iopub.status.idle": "2023-10-11T09:45:27.831901Z",
     "shell.execute_reply": "2023-10-11T09:45:27.831213Z",
     "shell.execute_reply.started": "2023-10-11T09:45:27.827270Z"
    },
    "tags": []
   },
   "outputs": [],
   "source": [
    "llm = OpenAI(model_name=\"text-davinci-003\", openai_api_key=openai_api_key)"
   ]
  },
  {
   "cell_type": "code",
   "execution_count": 61,
   "id": "c5bdfda9-02d6-41a4-9337-302f867ca64c",
   "metadata": {
    "execution": {
     "iopub.execute_input": "2023-10-11T09:46:40.416263Z",
     "iopub.status.busy": "2023-10-11T09:46:40.414466Z",
     "iopub.status.idle": "2023-10-11T09:46:40.429322Z",
     "shell.execute_reply": "2023-10-11T09:46:40.427460Z",
     "shell.execute_reply.started": "2023-10-11T09:46:40.416197Z"
    },
    "tags": []
   },
   "outputs": [],
   "source": [
    "# 응답을 어떻게 구성하고 싶은지 입력\n",
    "response_schemas = [\n",
    "    ResponseSchema(name=\"bad_string\", description=\"This is a poorly formatted user input string\"),\n",
    "    ResponseSchema(name=\"good_string\", description=\"This is your response, a reformatted response\")\n",
    "]"
   ]
  },
  {
   "cell_type": "code",
   "execution_count": 62,
   "id": "fa084200-c67b-4af5-8a2f-2f1ac71036ac",
   "metadata": {
    "execution": {
     "iopub.execute_input": "2023-10-11T09:47:02.098692Z",
     "iopub.status.busy": "2023-10-11T09:47:02.097662Z",
     "iopub.status.idle": "2023-10-11T09:47:02.112676Z",
     "shell.execute_reply": "2023-10-11T09:47:02.111100Z",
     "shell.execute_reply.started": "2023-10-11T09:47:02.098639Z"
    },
    "tags": []
   },
   "outputs": [],
   "source": [
    "# 출력 구분 분석 방법\n",
    "output_parser = StructuredOutputParser.from_response_schemas(response_schemas)"
   ]
  },
  {
   "cell_type": "code",
   "execution_count": 63,
   "id": "66a35f46-d565-4d4d-bc2b-df07a7c7f19d",
   "metadata": {
    "execution": {
     "iopub.execute_input": "2023-10-11T09:47:40.958475Z",
     "iopub.status.busy": "2023-10-11T09:47:40.957623Z",
     "iopub.status.idle": "2023-10-11T09:47:40.975028Z",
     "shell.execute_reply": "2023-10-11T09:47:40.973849Z",
     "shell.execute_reply.started": "2023-10-11T09:47:40.958429Z"
    },
    "tags": []
   },
   "outputs": [
    {
     "name": "stdout",
     "output_type": "stream",
     "text": [
      "The output should be a markdown code snippet formatted in the following schema, including the leading and trailing \"```json\" and \"```\":\n",
      "\n",
      "```json\n",
      "{\n",
      "\t\"bad_string\": string  // This is a poorly formatted user input string\n",
      "\t\"good_string\": string  // This is your response, a reformatted response\n",
      "}\n",
      "```\n"
     ]
    }
   ],
   "source": [
    "# 서식을 지정하려면 생성한 프롬프트 템플릿을 참조\n",
    "format_instructions = output_parser.get_format_instructions()\n",
    "print(format_instructions)"
   ]
  },
  {
   "cell_type": "code",
   "execution_count": 64,
   "id": "957c6bf3-58f5-44af-8db3-53433e163ccf",
   "metadata": {
    "execution": {
     "iopub.execute_input": "2023-10-11T09:49:10.152038Z",
     "iopub.status.busy": "2023-10-11T09:49:10.150538Z",
     "iopub.status.idle": "2023-10-11T09:49:10.161917Z",
     "shell.execute_reply": "2023-10-11T09:49:10.160472Z",
     "shell.execute_reply.started": "2023-10-11T09:49:10.151905Z"
    },
    "tags": []
   },
   "outputs": [],
   "source": [
    "template = \"\"\"\n",
    "You will be given a poorly formatted string from a user.\n",
    "Reformat it and make sure all the words are spelled correctly\n",
    "{format_instructions}\n",
    "% USER INPUT:\n",
    "{user_input}\n",
    "YOUR RESPONSE:\n",
    "\"\"\"\n",
    "\n",
    "prompt = PromptTemplate(\n",
    "  input_variables=[\"user_input\"], partial_variables={\"format_instructions\": format_instructions},\n",
    "  template=template\n",
    ")"
   ]
  },
  {
   "cell_type": "code",
   "execution_count": 65,
   "id": "50d383b8-556d-4c9f-94dc-a4716efb5098",
   "metadata": {
    "execution": {
     "iopub.execute_input": "2023-10-11T09:49:23.308744Z",
     "iopub.status.busy": "2023-10-11T09:49:23.307565Z",
     "iopub.status.idle": "2023-10-11T09:49:23.315240Z",
     "shell.execute_reply": "2023-10-11T09:49:23.314396Z",
     "shell.execute_reply.started": "2023-10-11T09:49:23.308630Z"
    },
    "tags": []
   },
   "outputs": [
    {
     "name": "stdout",
     "output_type": "stream",
     "text": [
      "\n",
      "You will be given a poorly formatted string from a user.\n",
      "Reformat it and make sure all the words are spelled correctly\n",
      "The output should be a markdown code snippet formatted in the following schema, including the leading and trailing \"```json\" and \"```\":\n",
      "\n",
      "```json\n",
      "{\n",
      "\t\"bad_string\": string  // This is a poorly formatted user input string\n",
      "\t\"good_string\": string  // This is your response, a reformatted response\n",
      "}\n",
      "```\n",
      "% USER INPUT:\n",
      "welcom to califonya!\n",
      "YOUR RESPONSE:\n",
      "\n"
     ]
    }
   ],
   "source": [
    "promptValue = prompt.format(user_input=\"welcom to califonya!\")\n",
    "print(promptValue)"
   ]
  },
  {
   "cell_type": "code",
   "execution_count": 69,
   "id": "bc4efdbd-0621-4cb9-ac01-cdd8f37f2074",
   "metadata": {
    "execution": {
     "iopub.execute_input": "2023-10-11T09:51:41.206624Z",
     "iopub.status.busy": "2023-10-11T09:51:41.205526Z",
     "iopub.status.idle": "2023-10-11T09:51:42.438191Z",
     "shell.execute_reply": "2023-10-11T09:51:42.430630Z",
     "shell.execute_reply.started": "2023-10-11T09:51:41.206577Z"
    },
    "tags": []
   },
   "outputs": [
    {
     "data": {
      "text/plain": [
       "'```json\\n{\\n\\t\"bad_string\" : \"welcom to califonya!\",\\n\\t\"good_string\" : \"Welcome to California!\"\\n}\\n```'"
      ]
     },
     "execution_count": 69,
     "metadata": {},
     "output_type": "execute_result"
    }
   ],
   "source": [
    "llm_output = llm(promptValue)\n",
    "llm_output"
   ]
  },
  {
   "cell_type": "code",
   "execution_count": 70,
   "id": "cdd0d402-566f-4723-8ced-62af71c3d6a2",
   "metadata": {
    "execution": {
     "iopub.execute_input": "2023-10-11T09:51:44.376267Z",
     "iopub.status.busy": "2023-10-11T09:51:44.375399Z",
     "iopub.status.idle": "2023-10-11T09:51:44.389197Z",
     "shell.execute_reply": "2023-10-11T09:51:44.388312Z",
     "shell.execute_reply.started": "2023-10-11T09:51:44.376224Z"
    },
    "tags": []
   },
   "outputs": [
    {
     "data": {
      "text/plain": [
       "{'bad_string': 'welcom to califonya!', 'good_string': 'Welcome to California!'}"
      ]
     },
     "execution_count": 70,
     "metadata": {},
     "output_type": "execute_result"
    }
   ],
   "source": [
    "output_parser.parse(llm_output)"
   ]
  },
  {
   "cell_type": "markdown",
   "id": "23d84b4e-707d-40df-b1e8-6615b6b42cb2",
   "metadata": {},
   "source": [
    "# Index"
   ]
  },
  {
   "cell_type": "markdown",
   "id": "f62a7c37-badb-4759-9fc9-babe7f051109",
   "metadata": {},
   "source": [
    "Index는 LLM이 다른 소스에서 문서를 쉽게 가져올 수 있도록 하는 방법이다. 문서 작업을 위한 유틸리티 함수, 다양한 유형의 Index, 그리고 이러한 Index를 체이닝하여 사용한다."
   ]
  },
  {
   "cell_type": "code",
   "execution_count": 71,
   "id": "54161e5e-0f28-48a8-aaa2-0e3d4ae761d0",
   "metadata": {
    "execution": {
     "iopub.execute_input": "2023-10-11T09:54:21.205576Z",
     "iopub.status.busy": "2023-10-11T09:54:21.199109Z",
     "iopub.status.idle": "2023-10-11T09:54:21.208952Z",
     "shell.execute_reply": "2023-10-11T09:54:21.208251Z",
     "shell.execute_reply.started": "2023-10-11T09:54:21.205420Z"
    },
    "tags": []
   },
   "outputs": [],
   "source": [
    "# from langchain.document_loaders import HNLoader                 # 댓글 가져오기\n",
    "# from langchain.document_loaders import UnstructuredURLLoader    # 사이트 로더\n",
    "# from langchain.document_loaders import YoutubeLoader            # 유튜브 자막 불러오기"
   ]
  },
  {
   "cell_type": "markdown",
   "id": "b5ff27f2-547c-468c-8c47-b9a1bc523a14",
   "metadata": {},
   "source": [
    "## Text Splitters"
   ]
  },
  {
   "cell_type": "markdown",
   "id": "bd4c520d-7692-40f6-a902-5487dfd6dc8a",
   "metadata": {},
   "source": [
    "..."
   ]
  },
  {
   "cell_type": "markdown",
   "id": "0274fb2c-604e-4630-bc85-f75e14e16710",
   "metadata": {},
   "source": [
    "# Memory"
   ]
  },
  {
   "cell_type": "markdown",
   "id": "1ef753f8-1604-4710-8372-d32c2ea4b84b",
   "metadata": {},
   "source": [
    "기본적으로 체인과 에이전트는 상태를 저장하지 않는다. 즉, 쿼리가 수행되면 독립적으로 처리한다.  \n",
    "Memory component는 LLM이 정보를 기억할 수 있도록 지원한다."
   ]
  },
  {
   "cell_type": "code",
   "execution_count": 73,
   "id": "f3da1fc2-0048-45ce-b235-dbadab127351",
   "metadata": {
    "execution": {
     "iopub.execute_input": "2023-10-11T09:57:41.875183Z",
     "iopub.status.busy": "2023-10-11T09:57:41.874126Z",
     "iopub.status.idle": "2023-10-11T09:57:41.886293Z",
     "shell.execute_reply": "2023-10-11T09:57:41.885062Z",
     "shell.execute_reply.started": "2023-10-11T09:57:41.875134Z"
    },
    "tags": []
   },
   "outputs": [],
   "source": [
    "from langchain.memory import ChatMessageHistory\n",
    "from langchain.chat_models import ChatOpenAI"
   ]
  },
  {
   "cell_type": "code",
   "execution_count": 74,
   "id": "f91defd7-3e67-4d94-b468-e3478e857741",
   "metadata": {
    "execution": {
     "iopub.execute_input": "2023-10-11T09:58:33.361472Z",
     "iopub.status.busy": "2023-10-11T09:58:33.360508Z",
     "iopub.status.idle": "2023-10-11T09:58:33.371925Z",
     "shell.execute_reply": "2023-10-11T09:58:33.370753Z",
     "shell.execute_reply.started": "2023-10-11T09:58:33.361429Z"
    },
    "tags": []
   },
   "outputs": [],
   "source": [
    "chat = ChatOpenAI(openai_api_key=openai_api_key)\n",
    "\n",
    "history = ChatMessageHistory()\n",
    "\n",
    "history.add_ai_message(\"hi!\")\n",
    "history.add_user_message(\"what is the capital of france?\")"
   ]
  },
  {
   "cell_type": "code",
   "execution_count": 75,
   "id": "dd5d448d-8fc4-4a01-8c09-8be578f75d95",
   "metadata": {
    "execution": {
     "iopub.execute_input": "2023-10-11T09:58:36.599367Z",
     "iopub.status.busy": "2023-10-11T09:58:36.598831Z",
     "iopub.status.idle": "2023-10-11T09:58:36.605040Z",
     "shell.execute_reply": "2023-10-11T09:58:36.604222Z",
     "shell.execute_reply.started": "2023-10-11T09:58:36.599312Z"
    },
    "tags": []
   },
   "outputs": [
    {
     "data": {
      "text/plain": [
       "[AIMessage(content='hi!', additional_kwargs={}, example=False),\n",
       " HumanMessage(content='what is the capital of france?', additional_kwargs={}, example=False)]"
      ]
     },
     "execution_count": 75,
     "metadata": {},
     "output_type": "execute_result"
    }
   ],
   "source": [
    "history.messages"
   ]
  },
  {
   "cell_type": "markdown",
   "id": "1c50a368-187c-4fd9-a620-b161cbe20f48",
   "metadata": {},
   "source": [
    "# Chain\n",
    "다양한 LLM을 호출하는데 사용되는 컴포넌트"
   ]
  },
  {
   "cell_type": "markdown",
   "id": "2ef68de7-aea4-4365-934b-30d8ec1d7856",
   "metadata": {},
   "source": [
    "## Simple Sequential Chains"
   ]
  },
  {
   "cell_type": "code",
   "execution_count": 108,
   "id": "8118b1aa-9f79-4780-8c5c-544842bfc279",
   "metadata": {
    "execution": {
     "iopub.execute_input": "2023-10-12T00:21:51.737186Z",
     "iopub.status.busy": "2023-10-12T00:21:51.736225Z",
     "iopub.status.idle": "2023-10-12T00:21:51.747306Z",
     "shell.execute_reply": "2023-10-12T00:21:51.745298Z",
     "shell.execute_reply.started": "2023-10-12T00:21:51.737139Z"
    },
    "tags": []
   },
   "outputs": [],
   "source": [
    "from langchain.llms import OpenAI\n",
    "from langchain.chains import LLMChain\n",
    "from langchain.prompts import PromptTemplate\n",
    "from langchain.chains import SimpleSequentialChain"
   ]
  },
  {
   "cell_type": "code",
   "execution_count": 177,
   "id": "35044f66-77a7-4a02-b618-532a2c8275fa",
   "metadata": {
    "execution": {
     "iopub.execute_input": "2023-10-12T05:58:38.780115Z",
     "iopub.status.busy": "2023-10-12T05:58:38.778897Z",
     "iopub.status.idle": "2023-10-12T05:58:38.795799Z",
     "shell.execute_reply": "2023-10-12T05:58:38.794940Z",
     "shell.execute_reply.started": "2023-10-12T05:58:38.779999Z"
    },
    "tags": []
   },
   "outputs": [],
   "source": [
    "llm = OpenAI(temperature=1, openai_api_key=openai_api_key)\n",
    "\n",
    "template = \"\"\"\n",
    "당신은 오타 검수자입니다. 다음의 문장을 교정해주세요.\n",
    "% USER SENTENCE\n",
    "{user_sentence}\n",
    "YOUR RESPONSE:\n",
    "\"\"\"\n",
    "\n",
    "prompt_template = PromptTemplate(input_variables=[\"user_sentence\"], template=template)\n",
    "\n",
    "# 내 '문장' 체인을 보관\n",
    "correction_chain = LLMChain(llm=llm, prompt=prompt_template)\n",
    "\n",
    "template = \"\"\"\n",
    "당신은 금융전문 통역봇입니다. 문장이 주어졌을 때, 해당 문장을 영어로 쉽고 자연스럽게 번역해줘. 전문용어가 포함되어 있으면 그 용어에 대해서 간략하게 설명해줘.\n",
    "% CORRECTED SENTENCE\n",
    "{corrected_sentence}\n",
    "TRANSLATED: \n",
    "\"\"\"\n",
    "\n",
    "prompt_template = PromptTemplate(input_variables=[\"corrected_sentence\"], template=template)\n",
    "\n",
    "# 내 '번역' 체인 보관\n",
    "translate_chain = LLMChain(llm=llm, prompt=prompt_template)\n",
    "\n",
    "sent1 = \"FACTA 등록에 필요한 납세자 번호를 알려주세엿.\"\n",
    "sent2 = \"이채한도가 제한되는 한도제한계좌입니당.\"\n",
    "sent3 = \"핸드폰이 본인 명의인가요?ㅎㅎ\"\n",
    "sent4 = \"재직증면서 또는 회사에 근무한다는 증명서가 필요합니다.\"\n",
    "sent5 = \"농협은행 NH더하고나눔정기예금 가입 도와드릴까요?\"\n",
    "\n",
    "# overall_chain = SimpleSequentialChain(chains=[correction_chain, translate_chain], verbose=True)\n",
    "# review = overall_chain.run(sent3)"
   ]
  },
  {
   "cell_type": "code",
   "execution_count": 178,
   "id": "aebc616d-98c8-48bc-ac71-6ab0f0128f4c",
   "metadata": {
    "execution": {
     "iopub.execute_input": "2023-10-12T05:58:40.865668Z",
     "iopub.status.busy": "2023-10-12T05:58:40.864865Z",
     "iopub.status.idle": "2023-10-12T05:58:54.373188Z",
     "shell.execute_reply": "2023-10-12T05:58:54.372252Z",
     "shell.execute_reply.started": "2023-10-12T05:58:40.865630Z"
    },
    "tags": []
   },
   "outputs": [
    {
     "name": "stdout",
     "output_type": "stream",
     "text": [
      "Origin : FACTA 등록에 필요한 납세자 번호를 알려주세엿.\n",
      "Corrected : FACTA 등록에 필요한 납세자 번호를 알려주세요.\n",
      "Translated: Please provide me the Taxpayer Identification Numbers (TINs) needed for FACTA registration.\n",
      "\n",
      "Origin : 이채한도가 제한되는 한도제한계좌입니당.\n",
      "Corrected : 이체한도가 제한되는 한도제한계좌입니다.\n",
      "Translated: This is a limit-restriction account which limits your wire transfer limit.\n",
      "\n",
      "Origin : 핸드폰이 본인 명의인가요?ㅎㅎ\n",
      "Corrected : 핸드폰이 본인 명의인가요?ㅎㅎ\n",
      "Translated: Is the phone in your own name?\n",
      "\n",
      "Origin : 재직증면서 또는 회사에 근무한다는 증명서가 필요합니다.\n",
      "Corrected : 재직증면서 또는 회사에 근무한다는 증명서가 필요합니다.\n",
      "Translated: A proof of employment or working for a company is required.\n",
      "\n",
      "Origin : 농협은행 NH더하고나눔정기예금 가입 도와드릴까요?\n",
      "Corrected : 농협은행 NH더하고나눔정기예금 가입 도와드릴까요?\n",
      "Translated: Can I help you open an NH-thePlus&Share regular deposit account at Nonghyup Bank? ThePlus&Share is a regular deposit account where customers save money regularly over a period of two month or more; the customers can then use the saved money as they wish.\n",
      "\n"
     ]
    }
   ],
   "source": [
    "# 중간과정 검수\n",
    "for origin in [sent1, sent2, sent3, sent4, sent5]:\n",
    "    corrected = correction_chain.run(origin)\n",
    "    if len(corrected) != len(origin):\n",
    "        corrected = origin\n",
    "    translated = translate_chain.run(corrected)\n",
    "    print(f\"Origin : {origin}\")\n",
    "    print(f\"Corrected : {corrected}\")\n",
    "    print(f\"Translated: {translated}\")\n",
    "    print()"
   ]
  },
  {
   "cell_type": "markdown",
   "id": "53b85dbb-5987-4ef2-a82f-d3caae451d92",
   "metadata": {},
   "source": [
    "## 요약 체인"
   ]
  },
  {
   "cell_type": "code",
   "execution_count": 129,
   "id": "4513df9b-bc57-49c8-8bbf-76c3c8c4307d",
   "metadata": {
    "execution": {
     "iopub.execute_input": "2023-10-12T00:33:18.570891Z",
     "iopub.status.busy": "2023-10-12T00:33:18.569992Z",
     "iopub.status.idle": "2023-10-12T00:33:18.583270Z",
     "shell.execute_reply": "2023-10-12T00:33:18.581737Z",
     "shell.execute_reply.started": "2023-10-12T00:33:18.570845Z"
    },
    "tags": []
   },
   "outputs": [],
   "source": [
    "from langchain.chains.summarize import load_summarize_chain\n",
    "from langchain.document_loaders import TextLoader\n",
    "from langchain.text_splitter import RecursiveCharacterTextSplitter"
   ]
  },
  {
   "cell_type": "code",
   "execution_count": 130,
   "id": "bf317643-e79c-4064-9e8b-0ae8f071d56a",
   "metadata": {
    "execution": {
     "iopub.execute_input": "2023-10-12T00:33:47.707832Z",
     "iopub.status.busy": "2023-10-12T00:33:47.707298Z",
     "iopub.status.idle": "2023-10-12T00:33:47.715590Z",
     "shell.execute_reply": "2023-10-12T00:33:47.714499Z",
     "shell.execute_reply.started": "2023-10-12T00:33:47.707802Z"
    },
    "tags": []
   },
   "outputs": [],
   "source": [
    "loader = TextLoader(\"data/finance_words.txt\")\n",
    "documents = loader.load()"
   ]
  },
  {
   "cell_type": "code",
   "execution_count": 131,
   "id": "9fc5b0de-38b4-4d19-a706-131fe508a373",
   "metadata": {
    "execution": {
     "iopub.execute_input": "2023-10-12T00:33:49.664633Z",
     "iopub.status.busy": "2023-10-12T00:33:49.663672Z",
     "iopub.status.idle": "2023-10-12T00:33:49.673007Z",
     "shell.execute_reply": "2023-10-12T00:33:49.672113Z",
     "shell.execute_reply.started": "2023-10-12T00:33:49.664591Z"
    },
    "tags": []
   },
   "outputs": [
    {
     "data": {
      "text/plain": [
       "[Document(page_content='한도계좌는 은행에서 신규로 입출금계좌를 만들때, 입금과 출금 한도를 제한하는 계좌이다. 정식 명칭은 금융거래한도제한계좌이지만, 이름이 길어서 보통, 금융거래한도계좌, 거래한도계좌, 한도계좌 등으로 줄여서 쓴다. 반대말은 일반계좌이다.', metadata={'source': 'data/finance_words.txt'})]"
      ]
     },
     "execution_count": 131,
     "metadata": {},
     "output_type": "execute_result"
    }
   ],
   "source": [
    "documents"
   ]
  },
  {
   "cell_type": "code",
   "execution_count": 132,
   "id": "ef09c437-3f42-4001-8572-18ba01214052",
   "metadata": {
    "execution": {
     "iopub.execute_input": "2023-10-12T00:34:21.590962Z",
     "iopub.status.busy": "2023-10-12T00:34:21.590254Z",
     "iopub.status.idle": "2023-10-12T00:34:21.599161Z",
     "shell.execute_reply": "2023-10-12T00:34:21.598106Z",
     "shell.execute_reply.started": "2023-10-12T00:34:21.590926Z"
    },
    "tags": []
   },
   "outputs": [],
   "source": [
    "# splitter\n",
    "text_splitter = RecursiveCharacterTextSplitter(chunk_size=700, chunk_overlap=50)"
   ]
  },
  {
   "cell_type": "code",
   "execution_count": 133,
   "id": "a5a7d47b-f2d0-4817-afc1-623a0be86e62",
   "metadata": {
    "execution": {
     "iopub.execute_input": "2023-10-12T00:34:37.983807Z",
     "iopub.status.busy": "2023-10-12T00:34:37.982830Z",
     "iopub.status.idle": "2023-10-12T00:34:37.996328Z",
     "shell.execute_reply": "2023-10-12T00:34:37.995521Z",
     "shell.execute_reply.started": "2023-10-12T00:34:37.983772Z"
    },
    "tags": []
   },
   "outputs": [],
   "source": [
    "# split\n",
    "texts = text_splitter.split_documents(documents)"
   ]
  },
  {
   "cell_type": "code",
   "execution_count": 135,
   "id": "ee116769-9653-4a29-aef3-d2a50a9f86bb",
   "metadata": {
    "execution": {
     "iopub.execute_input": "2023-10-12T00:35:21.149967Z",
     "iopub.status.busy": "2023-10-12T00:35:21.148868Z",
     "iopub.status.idle": "2023-10-12T00:35:31.086098Z",
     "shell.execute_reply": "2023-10-12T00:35:31.085420Z",
     "shell.execute_reply.started": "2023-10-12T00:35:21.149910Z"
    },
    "tags": []
   },
   "outputs": [
    {
     "name": "stdout",
     "output_type": "stream",
     "text": [
      "\n",
      "\n",
      "\u001b[1m> Entering new MapReduceDocumentsChain chain...\u001b[0m\n",
      "\n",
      "\n",
      "\u001b[1m> Entering new LLMChain chain...\u001b[0m\n",
      "Prompt after formatting:\n",
      "\u001b[32;1m\u001b[1;3mWrite a concise summary of the following:\n",
      "\n",
      "\n",
      "\"한도계좌는 은행에서 신규로 입출금계좌를 만들때, 입금과 출금 한도를 제한하는 계좌이다. 정식 명칭은 금융거래한도제한계좌이지만, 이름이 길어서 보통, 금융거래한도계좌, 거래한도계좌, 한도계좌 등으로 줄여서 쓴다. 반대말은 일반계좌이다.\"\n",
      "\n",
      "\n",
      "CONCISE SUMMARY:\u001b[0m\n",
      "\n",
      "\u001b[1m> Finished chain.\u001b[0m\n",
      "\n",
      "\n",
      "\u001b[1m> Entering new LLMChain chain...\u001b[0m\n",
      "Prompt after formatting:\n",
      "\u001b[32;1m\u001b[1;3mWrite a concise summary of the following:\n",
      "\n",
      "\n",
      "\" 한도계좌는 금융거래한도제한계좌로, 은행에서 입출금계좌를 신규로 만들 때 입금과 출금 한도를 제한하는 계좌이다. 반대말은 일반계좌이다.\"\n",
      "\n",
      "\n",
      "CONCISE SUMMARY:\u001b[0m\n",
      "\n",
      "\u001b[1m> Finished chain.\u001b[0m\n",
      "\n",
      "\u001b[1m> Finished chain.\u001b[0m\n"
     ]
    },
    {
     "data": {
      "text/plain": [
       "' 한도계좌는 금융거래한도가 제한된 입출금계좌이고, 일반계좌는 한도를 갖지 않는 계좌이다.'"
      ]
     },
     "execution_count": 135,
     "metadata": {},
     "output_type": "execute_result"
    }
   ],
   "source": [
    "# map-reduce를 통해 긴 전체 문서를 요약한다.\n",
    "chain = load_summarize_chain(llm, chain_type=\"map_reduce\", verbose=True)\n",
    "chain.run(texts)"
   ]
  },
  {
   "cell_type": "markdown",
   "id": "12a757fc-5962-464e-8634-cae8930ab754",
   "metadata": {},
   "source": [
    "# Agents\n",
    "사용자 입력에 따라 Agent는 여러 도구 중 호출할 수 있는 경우 도구를 결정할 수 있다.\n",
    "Agent는 LLM을 사용하여 수행할 작업과 순서를 결정한다. 이 과정에서 도구를 사용하여 출력을 관찰하거나 사용자에게 반환할 수 있다."
   ]
  },
  {
   "cell_type": "markdown",
   "id": "a8d71014-d1d2-40ca-90ad-67fff8603121",
   "metadata": {},
   "source": [
    "## 구글 검색"
   ]
  },
  {
   "cell_type": "code",
   "execution_count": null,
   "id": "ee4a4a99-a335-4216-b3d9-2ebaf1b61dc6",
   "metadata": {},
   "outputs": [],
   "source": [
    "# # 구글 API 환경설정\n",
    "# import os\n",
    "# os.environ[\"GOOGLE_CSE_ID\"] = \"\"\n",
    "# os.environ[\"GOOGLE_API_KEY\"] = \"\"\n",
    "\n",
    "\n",
    "# from langchain.utilities import GoogleSearchAPIWrapper\n",
    "\n",
    "# search = GoogleSearchAPIWrapper()\n",
    "# search.run(\"Obama's first name?\")"
   ]
  }
 ],
 "metadata": {
  "kernelspec": {
   "display_name": "Python 3 (ipykernel)",
   "language": "python",
   "name": "python3"
  },
  "language_info": {
   "codemirror_mode": {
    "name": "ipython",
    "version": 3
   },
   "file_extension": ".py",
   "mimetype": "text/x-python",
   "name": "python",
   "nbconvert_exporter": "python",
   "pygments_lexer": "ipython3",
   "version": "3.10.10"
  },
  "toc-autonumbering": true
 },
 "nbformat": 4,
 "nbformat_minor": 5
}
