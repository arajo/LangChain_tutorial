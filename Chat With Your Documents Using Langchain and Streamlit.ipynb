{
 "cells": [
  {
   "cell_type": "markdown",
   "id": "ba9db804-8554-45f7-bc06-8d61fb0adaef",
   "metadata": {},
   "source": [
    "- 참고: https://medium.com/mlearning-ai/build-a-chat-with-csv-app-using-langchain-and-streamlit-94a8b3363aa9"
   ]
  },
  {
   "cell_type": "markdown",
   "id": "74e750a9-55c3-45b5-b433-0e03ea966347",
   "metadata": {},
   "source": [
    "# Environment Setup"
   ]
  },
  {
   "cell_type": "code",
   "execution_count": 11,
   "id": "c240f7dc-9d5d-4a10-b84c-801c8241394c",
   "metadata": {
    "execution": {
     "iopub.execute_input": "2023-07-30T04:18:49.099777Z",
     "iopub.status.busy": "2023-07-30T04:18:49.099182Z",
     "iopub.status.idle": "2023-07-30T04:18:49.108483Z",
     "shell.execute_reply": "2023-07-30T04:18:49.107462Z",
     "shell.execute_reply.started": "2023-07-30T04:18:49.099750Z"
    },
    "tags": []
   },
   "outputs": [],
   "source": [
    "import streamlit as st\n",
    "import pandas as pd\n",
    "from pdf2image import convert_from_path\n",
    "import pytesseract\n",
    "from PyPDF2 import PdfReader\n",
    "from langchain.agents import create_csv_agent\n",
    "from langchain.llms import OpenAI\n",
    "import os\n",
    "import json\n",
    "from langchain.document_loaders import TextLoader\n",
    "from langchain.indexes import VectorstoreIndexCreator"
   ]
  },
  {
   "cell_type": "code",
   "execution_count": 14,
   "id": "b1db52ab-83e7-4c78-b907-59a80c2493b9",
   "metadata": {
    "execution": {
     "iopub.execute_input": "2023-07-30T04:19:11.921309Z",
     "iopub.status.busy": "2023-07-30T04:19:11.920401Z",
     "iopub.status.idle": "2023-07-30T04:19:11.931415Z",
     "shell.execute_reply": "2023-07-30T04:19:11.930264Z",
     "shell.execute_reply.started": "2023-07-30T04:19:11.921274Z"
    },
    "tags": []
   },
   "outputs": [],
   "source": [
    "def get_secrets():\n",
    "    SECRET = {}\n",
    "    secrets = json.loads(open(\"./secrets.json\").read())\n",
    "    for k, v in secrets.items():\n",
    "        SECRET[k] = v\n",
    "    return SECRET"
   ]
  },
  {
   "cell_type": "code",
   "execution_count": 18,
   "id": "63219b6d-323b-4347-9692-47c57df078c9",
   "metadata": {
    "execution": {
     "iopub.execute_input": "2023-07-30T04:19:59.404514Z",
     "iopub.status.busy": "2023-07-30T04:19:59.403617Z",
     "iopub.status.idle": "2023-07-30T04:19:59.427772Z",
     "shell.execute_reply": "2023-07-30T04:19:59.426819Z",
     "shell.execute_reply.started": "2023-07-30T04:19:59.404452Z"
    },
    "tags": []
   },
   "outputs": [],
   "source": [
    "os.environ['OPENAI_API_KEY'] = get_secrets()['OPENAPI_KEY']\n",
    "llm = OpenAI(temperature=0.1)"
   ]
  },
  {
   "cell_type": "markdown",
   "id": "01b7e0e7-71d2-44bf-9445-1a67f164a6f5",
   "metadata": {},
   "source": [
    "# Processing Functions"
   ]
  },
  {
   "cell_type": "code",
   "execution_count": 19,
   "id": "ae975f69-820e-4e39-bdf6-a86173707de9",
   "metadata": {
    "execution": {
     "iopub.execute_input": "2023-07-30T04:22:26.908298Z",
     "iopub.status.busy": "2023-07-30T04:22:26.907235Z",
     "iopub.status.idle": "2023-07-30T04:22:26.918497Z",
     "shell.execute_reply": "2023-07-30T04:22:26.917422Z",
     "shell.execute_reply.started": "2023-07-30T04:22:26.908237Z"
    },
    "tags": []
   },
   "outputs": [],
   "source": [
    "def pdf_to_text(pdf_path):\n",
    "    # Step 1: Convert PDF to images\n",
    "    images = convert_from_path(pdf_path)\n",
    "\n",
    "    with open('output.txt', 'w') as f:  # Open the text file in write mode\n",
    "        for i, image in enumerate(images):\n",
    "            # Save pages as images in the pdf\n",
    "            image_file = f'page{i}.jpg'\n",
    "            image.save(image_file, 'JPEG')\n",
    "\n",
    "            # Step 2: Use OCR to extract text from images\n",
    "            text = pytesseract.image_to_string(image_file)\n",
    "\n",
    "            f.write(text + '\\n')  # Write the text to the file and add a newline for each page"
   ]
  },
  {
   "cell_type": "code",
   "execution_count": 20,
   "id": "2a805e89-39cd-4ccc-b1ac-eea24ea9adfb",
   "metadata": {
    "execution": {
     "iopub.execute_input": "2023-07-30T04:22:40.982303Z",
     "iopub.status.busy": "2023-07-30T04:22:40.981245Z",
     "iopub.status.idle": "2023-07-30T04:22:40.999062Z",
     "shell.execute_reply": "2023-07-30T04:22:40.997822Z",
     "shell.execute_reply.started": "2023-07-30T04:22:40.982241Z"
    },
    "tags": []
   },
   "outputs": [],
   "source": [
    "def load_csv_data(uploaded_file):\n",
    "    df = pd.read_csv(uploaded_file)\n",
    "    df.to_csv(\"uploaded_file.csv\")\n",
    "    return df\n",
    "\n",
    "def load_txt_data(uploaded_file):\n",
    "    with open('uploaded_file.txt', 'w') as f:\n",
    "        f.write(uploaded_file.getvalue().decode())\n",
    "    return uploaded_file.getvalue().decode()\n",
    "\n",
    "def load_pdf_data(uploaded_file):\n",
    "    with open('uploaded_file.pdf', 'wb') as f:\n",
    "        f.write(uploaded_file.getbuffer())\n",
    "    pdf = PdfReader('uploaded_file.pdf')\n",
    "    text = \"\"\n",
    "    for page in pdf.pages:\n",
    "        text += page.extract_text()\n",
    "    pdf_to_text('uploaded_file.pdf')\n",
    "    return text"
   ]
  },
  {
   "cell_type": "markdown",
   "id": "56a424a7-4356-4559-8ad0-ba0d6f455b0a",
   "metadata": {},
   "source": [
    "# Main Function"
   ]
  },
  {
   "cell_type": "code",
   "execution_count": 22,
   "id": "22daa7f6-f44b-4ad8-a4c7-28e3653078a3",
   "metadata": {
    "execution": {
     "iopub.execute_input": "2023-07-30T04:24:44.051606Z",
     "iopub.status.busy": "2023-07-30T04:24:44.050304Z",
     "iopub.status.idle": "2023-07-30T04:24:44.093330Z",
     "shell.execute_reply": "2023-07-30T04:24:44.092966Z",
     "shell.execute_reply.started": "2023-07-30T04:24:44.051538Z"
    },
    "tags": []
   },
   "outputs": [
    {
     "name": "stderr",
     "output_type": "stream",
     "text": [
      "2023-07-30 13:24:44.091 \n",
      "  \u001b[33m\u001b[1mWarning:\u001b[0m to view this Streamlit app on a browser, run it with the following\n",
      "  command:\n",
      "\n",
      "    streamlit run /opt/homebrew/Caskroom/miniforge/base/envs/LangChain_tutorial/lib/python3.10/site-packages/ipykernel_launcher.py [ARGUMENTS]\n"
     ]
    }
   ],
   "source": [
    "def main():\n",
    "    st.title(\"Chat With Your Documents (csv, txt and pdf)\")\n",
    "    file = st.file_uploader(\"Upload a file\", type=[\"csv\", \"txt\", \"pdf\"])\n",
    "    \n",
    "    if file is not None:\n",
    "        if file.type == \"text/csv\":\n",
    "            doc = \"csv\"\n",
    "            data = load_csv_data(file)\n",
    "            agent = create_csv_agent(OpenAI(temperature=0), 'uploaded_file.csv', verbose=True)\n",
    "            st.dataframe(data)\n",
    "\n",
    "        elif file.type == \"text/plain\":\n",
    "            doc = \"text\"\n",
    "            data = load_txt_data(file)\n",
    "            loader = TextLoader('uploaded_file.txt')\n",
    "            index = VectorstoreIndexCreator().from_loaders([loader])\n",
    "\n",
    "        elif file.type == \"application/pdf\":\n",
    "            doc = \"text\"\n",
    "            data = load_pdf_data(file)\n",
    "            loader = TextLoader('output.txt')\n",
    "            index = VectorstoreIndexCreator().from_loaders([loader])\n",
    "\n",
    "        # do something with the data\n",
    "\n",
    "\n",
    "        question = st.text_input(\"Once uploaded, you can chat with your document. Enter your question here:\")\n",
    "        submit_button = st.button('Submit')\n",
    "\n",
    "        if submit_button:\n",
    "            if doc == \"text\":\n",
    "                response = index.query(question)\n",
    "            else:\n",
    "                response = agent.run(question)\n",
    "\n",
    "            if response:\n",
    "                st.write(response)\n",
    "\n",
    "\n",
    "if __name__ == \"__main__\":\n",
    "    main()"
   ]
  },
  {
   "cell_type": "code",
   "execution_count": null,
   "id": "18546796-1003-4fdc-be2d-2cef8a00206e",
   "metadata": {},
   "outputs": [],
   "source": []
  }
 ],
 "metadata": {
  "kernelspec": {
   "display_name": "Python [conda env:LangChain_tutorial]",
   "language": "python",
   "name": "conda-env-LangChain_tutorial-py"
  },
  "language_info": {
   "codemirror_mode": {
    "name": "ipython",
    "version": 3
   },
   "file_extension": ".py",
   "mimetype": "text/x-python",
   "name": "python",
   "nbconvert_exporter": "python",
   "pygments_lexer": "ipython3",
   "version": "3.10.12"
  }
 },
 "nbformat": 4,
 "nbformat_minor": 5
}
