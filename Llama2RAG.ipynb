{
 "cells": [
  {
   "cell_type": "markdown",
   "id": "ad34ca90-9133-4acc-9a10-215fec93acfa",
   "metadata": {},
   "source": [
    "# RAG with LLaMa\n",
    "- local env: RAG\n",
    "\n",
    "참고\n",
    "- https://github.com/nicknochnack/Llama2RAG/tree/main\n",
    "- https://agi-sphere.com/retrieval-augmented-generation-llama2/\n",
    "- https://colab.research.google.com/github/pinecone-io/examples/blob/master/learn/generation/llm-field-guide/llama-2/llama-2-13b-retrievalqa.ipynb#scrollTo=lhXARZQXq6QD"
   ]
  },
  {
   "cell_type": "code",
   "execution_count": 12,
   "id": "96387d5c-195a-45fc-ae6d-366d77daa259",
   "metadata": {
    "collapsed": true,
    "jupyter": {
     "outputs_hidden": true
    },
    "scrolled": true
   },
   "outputs": [
    {
     "name": "stdout",
     "output_type": "stream",
     "text": [
      "huggingface/tokenizers: The current process just got forked, after parallelism has already been used. Disabling parallelism to avoid deadlocks...\n",
      "To disable this warning, you can either:\n",
      "\t- Avoid using `tokenizers` before the fork if possible\n",
      "\t- Explicitly set the environment variable TOKENIZERS_PARALLELISM=(true | false)\n",
      "Collecting llama-index==0.7.21\n",
      "  Obtaining dependency information for llama-index==0.7.21 from https://files.pythonhosted.org/packages/49/2e/4748e16f5f00030e0047c2f8916bbff2ff7adfeb8b0accac5c4addb82700/llama_index-0.7.21-py3-none-any.whl.metadata\n",
      "  Using cached llama_index-0.7.21-py3-none-any.whl.metadata (4.6 kB)\n",
      "Collecting llama_hub==0.0.19\n",
      "  Obtaining dependency information for llama_hub==0.0.19 from https://files.pythonhosted.org/packages/3e/2a/02995a7efe1d06fe9071c6317fcf33ea3e15dde02da3ba5469d3cea6414f/llama_hub-0.0.19-py3-none-any.whl.metadata\n",
      "  Using cached llama_hub-0.0.19-py3-none-any.whl.metadata (8.8 kB)\n",
      "Requirement already satisfied: tiktoken in /opt/homebrew/Caskroom/miniforge/base/envs/RAG/lib/python3.10/site-packages (from llama-index==0.7.21) (0.4.0)\n",
      "Collecting dataclasses-json (from llama-index==0.7.21)\n",
      "  Obtaining dependency information for dataclasses-json from https://files.pythonhosted.org/packages/21/1f/1cff009cff64420572b9f75b70e4a054095719179a172297dfdd65843162/dataclasses_json-0.6.1-py3-none-any.whl.metadata\n",
      "  Using cached dataclasses_json-0.6.1-py3-none-any.whl.metadata (24 kB)\n",
      "Collecting langchain>=0.0.218 (from llama-index==0.7.21)\n",
      "  Obtaining dependency information for langchain>=0.0.218 from https://files.pythonhosted.org/packages/6d/8d/78e2610ac6e94813cde9c06dfce5911dd0dee6f7702921d47cc95cba4379/langchain-0.0.331-py3-none-any.whl.metadata\n",
      "  Using cached langchain-0.0.331-py3-none-any.whl.metadata (16 kB)\n",
      "Collecting sqlalchemy>=2.0.15 (from llama-index==0.7.21)\n",
      "  Obtaining dependency information for sqlalchemy>=2.0.15 from https://files.pythonhosted.org/packages/e7/25/cfcc50c21cb133ae44f9aba61b48285451b6ecb882af291fe9da6445f4da/SQLAlchemy-2.0.23-cp310-cp310-macosx_11_0_arm64.whl.metadata\n",
      "  Downloading SQLAlchemy-2.0.23-cp310-cp310-macosx_11_0_arm64.whl.metadata (9.6 kB)\n",
      "Requirement already satisfied: numpy in /opt/homebrew/Caskroom/miniforge/base/envs/RAG/lib/python3.10/site-packages (from llama-index==0.7.21) (1.26.0)\n",
      "Requirement already satisfied: tenacity<9.0.0,>=8.2.0 in /opt/homebrew/Caskroom/miniforge/base/envs/RAG/lib/python3.10/site-packages (from llama-index==0.7.21) (8.2.3)\n",
      "Collecting openai>=0.26.4 (from llama-index==0.7.21)\n",
      "  Obtaining dependency information for openai>=0.26.4 from https://files.pythonhosted.org/packages/f7/86/ea99e3f966a639a3256e2f79d78cd63d45d5eb651a5457ccbdcfd9eed24a/openai-1.1.1-py3-none-any.whl.metadata\n",
      "  Using cached openai-1.1.1-py3-none-any.whl.metadata (16 kB)\n",
      "Requirement already satisfied: pandas in /opt/homebrew/Caskroom/miniforge/base/envs/RAG/lib/python3.10/site-packages (from llama-index==0.7.21) (2.1.0)\n",
      "Collecting urllib3<2 (from llama-index==0.7.21)\n",
      "  Obtaining dependency information for urllib3<2 from https://files.pythonhosted.org/packages/b0/53/aa91e163dcfd1e5b82d8a890ecf13314e3e149c05270cc644581f77f17fd/urllib3-1.26.18-py2.py3-none-any.whl.metadata\n",
      "  Using cached urllib3-1.26.18-py2.py3-none-any.whl.metadata (48 kB)\n",
      "Requirement already satisfied: fsspec>=2023.5.0 in /opt/homebrew/Caskroom/miniforge/base/envs/RAG/lib/python3.10/site-packages (from llama-index==0.7.21) (2023.6.0)\n",
      "Collecting typing-inspect>=0.8.0 (from llama-index==0.7.21)\n",
      "  Obtaining dependency information for typing-inspect>=0.8.0 from https://files.pythonhosted.org/packages/65/f3/107a22063bf27bdccf2024833d3445f4eea42b2e598abfbd46f6a63b6cb0/typing_inspect-0.9.0-py3-none-any.whl.metadata\n",
      "  Using cached typing_inspect-0.9.0-py3-none-any.whl.metadata (1.5 kB)\n",
      "Requirement already satisfied: typing-extensions>=4.5.0 in /opt/homebrew/Caskroom/miniforge/base/envs/RAG/lib/python3.10/site-packages (from llama-index==0.7.21) (4.7.1)\n",
      "Requirement already satisfied: beautifulsoup4 in /opt/homebrew/Caskroom/miniforge/base/envs/RAG/lib/python3.10/site-packages (from llama-index==0.7.21) (4.12.2)\n",
      "Requirement already satisfied: nest-asyncio in /opt/homebrew/Caskroom/miniforge/base/envs/RAG/lib/python3.10/site-packages (from llama-index==0.7.21) (1.5.6)\n",
      "Collecting atlassian-python-api (from llama_hub==0.0.19)\n",
      "  Obtaining dependency information for atlassian-python-api from https://files.pythonhosted.org/packages/2d/a4/8479331c0ce7867e0e3401c0d728dd187a969dc37aa34e75f482f672c4ab/atlassian_python_api-3.41.3-py3-none-any.whl.metadata\n",
      "  Using cached atlassian_python_api-3.41.3-py3-none-any.whl.metadata (8.7 kB)\n",
      "Collecting html2text (from llama_hub==0.0.19)\n",
      "  Using cached html2text-2020.1.16-py3-none-any.whl (32 kB)\n",
      "Requirement already satisfied: psutil in /opt/homebrew/Caskroom/miniforge/base/envs/RAG/lib/python3.10/site-packages (from llama_hub==0.0.19) (5.9.5)\n",
      "Collecting retrying (from llama_hub==0.0.19)\n",
      "  Using cached retrying-1.3.4-py3-none-any.whl (11 kB)\n",
      "Requirement already satisfied: PyYAML>=5.3 in /opt/homebrew/Caskroom/miniforge/base/envs/RAG/lib/python3.10/site-packages (from langchain>=0.0.218->llama-index==0.7.21) (6.0.1)\n",
      "Requirement already satisfied: aiohttp<4.0.0,>=3.8.3 in /opt/homebrew/Caskroom/miniforge/base/envs/RAG/lib/python3.10/site-packages (from langchain>=0.0.218->llama-index==0.7.21) (3.8.5)\n",
      "Collecting anyio<4.0 (from langchain>=0.0.218->llama-index==0.7.21)\n",
      "  Obtaining dependency information for anyio<4.0 from https://files.pythonhosted.org/packages/19/24/44299477fe7dcc9cb58d0a57d5a7588d6af2ff403fdd2d47a246c91a3246/anyio-3.7.1-py3-none-any.whl.metadata\n",
      "  Using cached anyio-3.7.1-py3-none-any.whl.metadata (4.7 kB)\n",
      "Requirement already satisfied: async-timeout<5.0.0,>=4.0.0 in /opt/homebrew/Caskroom/miniforge/base/envs/RAG/lib/python3.10/site-packages (from langchain>=0.0.218->llama-index==0.7.21) (4.0.3)\n",
      "Collecting jsonpatch<2.0,>=1.33 (from langchain>=0.0.218->llama-index==0.7.21)\n",
      "  Obtaining dependency information for jsonpatch<2.0,>=1.33 from https://files.pythonhosted.org/packages/73/07/02e16ed01e04a374e644b575638ec7987ae846d25ad97bcc9945a3ee4b0e/jsonpatch-1.33-py2.py3-none-any.whl.metadata\n",
      "  Using cached jsonpatch-1.33-py2.py3-none-any.whl.metadata (3.0 kB)\n",
      "Collecting langsmith<0.1.0,>=0.0.52 (from langchain>=0.0.218->llama-index==0.7.21)\n",
      "  Obtaining dependency information for langsmith<0.1.0,>=0.0.52 from https://files.pythonhosted.org/packages/7c/6e/feb3dc81de4e12b30df223cffd51e381dd250f6f905d119c619d8b558d00/langsmith-0.0.60-py3-none-any.whl.metadata\n",
      "  Downloading langsmith-0.0.60-py3-none-any.whl.metadata (10 kB)\n",
      "Requirement already satisfied: pydantic<3,>=1 in /opt/homebrew/Caskroom/miniforge/base/envs/RAG/lib/python3.10/site-packages (from langchain>=0.0.218->llama-index==0.7.21) (1.10.12)\n",
      "Requirement already satisfied: requests<3,>=2 in /opt/homebrew/Caskroom/miniforge/base/envs/RAG/lib/python3.10/site-packages (from langchain>=0.0.218->llama-index==0.7.21) (2.31.0)\n",
      "Collecting marshmallow<4.0.0,>=3.18.0 (from dataclasses-json->llama-index==0.7.21)\n",
      "  Obtaining dependency information for marshmallow<4.0.0,>=3.18.0 from https://files.pythonhosted.org/packages/ed/3c/cebfdcad015240014ff08b883d1c0c427f2ba45ae8c6572851b6ef136cad/marshmallow-3.20.1-py3-none-any.whl.metadata\n",
      "  Using cached marshmallow-3.20.1-py3-none-any.whl.metadata (7.8 kB)\n",
      "Collecting distro<2,>=1.7.0 (from openai>=0.26.4->llama-index==0.7.21)\n",
      "  Using cached distro-1.8.0-py3-none-any.whl (20 kB)\n",
      "Collecting httpx<1,>=0.23.0 (from openai>=0.26.4->llama-index==0.7.21)\n",
      "  Obtaining dependency information for httpx<1,>=0.23.0 from https://files.pythonhosted.org/packages/82/61/a5fca4a1e88e40969bbd0cf0d981f3aa76d5057db160b94f49603fc18740/httpx-0.25.1-py3-none-any.whl.metadata\n",
      "  Using cached httpx-0.25.1-py3-none-any.whl.metadata (7.1 kB)\n",
      "Requirement already satisfied: tqdm>4 in /opt/homebrew/Caskroom/miniforge/base/envs/RAG/lib/python3.10/site-packages (from openai>=0.26.4->llama-index==0.7.21) (4.66.1)\n",
      "Collecting mypy-extensions>=0.3.0 (from typing-inspect>=0.8.0->llama-index==0.7.21)\n",
      "  Using cached mypy_extensions-1.0.0-py3-none-any.whl (4.7 kB)\n",
      "Collecting deprecated (from atlassian-python-api->llama_hub==0.0.19)\n",
      "  Obtaining dependency information for deprecated from https://files.pythonhosted.org/packages/20/8d/778b7d51b981a96554f29136cd59ca7880bf58094338085bcf2a979a0e6a/Deprecated-1.2.14-py2.py3-none-any.whl.metadata\n",
      "  Using cached Deprecated-1.2.14-py2.py3-none-any.whl.metadata (5.4 kB)\n",
      "Requirement already satisfied: six in /opt/homebrew/Caskroom/miniforge/base/envs/RAG/lib/python3.10/site-packages (from atlassian-python-api->llama_hub==0.0.19) (1.16.0)\n",
      "Collecting oauthlib (from atlassian-python-api->llama_hub==0.0.19)\n",
      "  Using cached oauthlib-3.2.2-py3-none-any.whl (151 kB)\n",
      "Collecting requests-oauthlib (from atlassian-python-api->llama_hub==0.0.19)\n",
      "  Using cached requests_oauthlib-1.3.1-py2.py3-none-any.whl (23 kB)\n",
      "Requirement already satisfied: soupsieve>1.2 in /opt/homebrew/Caskroom/miniforge/base/envs/RAG/lib/python3.10/site-packages (from beautifulsoup4->llama-index==0.7.21) (2.5)\n",
      "Requirement already satisfied: python-dateutil>=2.8.2 in /opt/homebrew/Caskroom/miniforge/base/envs/RAG/lib/python3.10/site-packages (from pandas->llama-index==0.7.21) (2.8.2)\n",
      "Requirement already satisfied: pytz>=2020.1 in /opt/homebrew/Caskroom/miniforge/base/envs/RAG/lib/python3.10/site-packages (from pandas->llama-index==0.7.21) (2023.3.post1)\n",
      "Requirement already satisfied: tzdata>=2022.1 in /opt/homebrew/Caskroom/miniforge/base/envs/RAG/lib/python3.10/site-packages (from pandas->llama-index==0.7.21) (2023.3)\n",
      "Requirement already satisfied: regex>=2022.1.18 in /opt/homebrew/Caskroom/miniforge/base/envs/RAG/lib/python3.10/site-packages (from tiktoken->llama-index==0.7.21) (2023.8.8)\n",
      "Requirement already satisfied: attrs>=17.3.0 in /opt/homebrew/Caskroom/miniforge/base/envs/RAG/lib/python3.10/site-packages (from aiohttp<4.0.0,>=3.8.3->langchain>=0.0.218->llama-index==0.7.21) (23.1.0)\n",
      "Requirement already satisfied: charset-normalizer<4.0,>=2.0 in /opt/homebrew/Caskroom/miniforge/base/envs/RAG/lib/python3.10/site-packages (from aiohttp<4.0.0,>=3.8.3->langchain>=0.0.218->llama-index==0.7.21) (3.2.0)\n",
      "Requirement already satisfied: multidict<7.0,>=4.5 in /opt/homebrew/Caskroom/miniforge/base/envs/RAG/lib/python3.10/site-packages (from aiohttp<4.0.0,>=3.8.3->langchain>=0.0.218->llama-index==0.7.21) (6.0.4)\n",
      "Requirement already satisfied: yarl<2.0,>=1.0 in /opt/homebrew/Caskroom/miniforge/base/envs/RAG/lib/python3.10/site-packages (from aiohttp<4.0.0,>=3.8.3->langchain>=0.0.218->llama-index==0.7.21) (1.9.2)\n",
      "Requirement already satisfied: frozenlist>=1.1.1 in /opt/homebrew/Caskroom/miniforge/base/envs/RAG/lib/python3.10/site-packages (from aiohttp<4.0.0,>=3.8.3->langchain>=0.0.218->llama-index==0.7.21) (1.4.0)\n",
      "Requirement already satisfied: aiosignal>=1.1.2 in /opt/homebrew/Caskroom/miniforge/base/envs/RAG/lib/python3.10/site-packages (from aiohttp<4.0.0,>=3.8.3->langchain>=0.0.218->llama-index==0.7.21) (1.3.1)\n",
      "Requirement already satisfied: idna>=2.8 in /opt/homebrew/Caskroom/miniforge/base/envs/RAG/lib/python3.10/site-packages (from anyio<4.0->langchain>=0.0.218->llama-index==0.7.21) (3.4)\n",
      "Requirement already satisfied: sniffio>=1.1 in /opt/homebrew/Caskroom/miniforge/base/envs/RAG/lib/python3.10/site-packages (from anyio<4.0->langchain>=0.0.218->llama-index==0.7.21) (1.3.0)\n",
      "Requirement already satisfied: exceptiongroup in /opt/homebrew/Caskroom/miniforge/base/envs/RAG/lib/python3.10/site-packages (from anyio<4.0->langchain>=0.0.218->llama-index==0.7.21) (1.1.3)\n",
      "Requirement already satisfied: certifi in /opt/homebrew/Caskroom/miniforge/base/envs/RAG/lib/python3.10/site-packages (from httpx<1,>=0.23.0->openai>=0.26.4->llama-index==0.7.21) (2023.7.22)\n",
      "Collecting httpcore (from httpx<1,>=0.23.0->openai>=0.26.4->llama-index==0.7.21)\n",
      "  Obtaining dependency information for httpcore from https://files.pythonhosted.org/packages/7c/bd/8f4e676af570d8990e02e3f4cefba7c0c506f2b2ce63f086e0cb939b6e1e/httpcore-1.0.1-py3-none-any.whl.metadata\n",
      "  Using cached httpcore-1.0.1-py3-none-any.whl.metadata (20 kB)\n",
      "Requirement already satisfied: jsonpointer>=1.9 in /opt/homebrew/Caskroom/miniforge/base/envs/RAG/lib/python3.10/site-packages (from jsonpatch<2.0,>=1.33->langchain>=0.0.218->llama-index==0.7.21) (2.4)\n",
      "Requirement already satisfied: packaging>=17.0 in /opt/homebrew/Caskroom/miniforge/base/envs/RAG/lib/python3.10/site-packages (from marshmallow<4.0.0,>=3.18.0->dataclasses-json->llama-index==0.7.21) (23.1)\n",
      "Collecting wrapt<2,>=1.10 (from deprecated->atlassian-python-api->llama_hub==0.0.19)\n",
      "  Downloading wrapt-1.15.0-cp310-cp310-macosx_11_0_arm64.whl (36 kB)\n",
      "Collecting h11<0.15,>=0.13 (from httpcore->httpx<1,>=0.23.0->openai>=0.26.4->llama-index==0.7.21)\n",
      "  Using cached h11-0.14.0-py3-none-any.whl (58 kB)\n",
      "Using cached llama_index-0.7.21-py3-none-any.whl (645 kB)\n",
      "Using cached llama_hub-0.0.19-py3-none-any.whl (2.5 MB)\n",
      "Using cached langchain-0.0.331-py3-none-any.whl (2.0 MB)\n",
      "Using cached dataclasses_json-0.6.1-py3-none-any.whl (27 kB)\n",
      "Using cached openai-1.1.1-py3-none-any.whl (217 kB)\n",
      "Using cached SQLAlchemy-2.0.23-cp310-cp310-macosx_11_0_arm64.whl (2.1 MB)\n",
      "Using cached typing_inspect-0.9.0-py3-none-any.whl (8.8 kB)\n",
      "Using cached urllib3-1.26.18-py2.py3-none-any.whl (143 kB)\n",
      "Using cached atlassian_python_api-3.41.3-py3-none-any.whl (167 kB)\n",
      "Using cached anyio-3.7.1-py3-none-any.whl (80 kB)\n",
      "Using cached httpx-0.25.1-py3-none-any.whl (75 kB)\n",
      "Using cached jsonpatch-1.33-py2.py3-none-any.whl (12 kB)\n",
      "Downloading langsmith-0.0.60-py3-none-any.whl (44 kB)\n",
      "\u001b[2K   \u001b[38;2;114;156;31m━━━━━━━━━━━━━━━━━━━━━━━━━━━━━━━━━━━━━━━━\u001b[0m \u001b[32m45.0/45.0 kB\u001b[0m \u001b[31m3.8 MB/s\u001b[0m eta \u001b[36m0:00:00\u001b[0m\n",
      "\u001b[?25hUsing cached marshmallow-3.20.1-py3-none-any.whl (49 kB)\n",
      "Using cached Deprecated-1.2.14-py2.py3-none-any.whl (9.6 kB)\n",
      "Using cached httpcore-1.0.1-py3-none-any.whl (76 kB)\n",
      "Installing collected packages: wrapt, urllib3, sqlalchemy, retrying, oauthlib, mypy-extensions, marshmallow, jsonpatch, html2text, h11, distro, anyio, typing-inspect, httpcore, deprecated, requests-oauthlib, langsmith, httpx, dataclasses-json, openai, langchain, atlassian-python-api, llama-index, llama_hub\n",
      "  Attempting uninstall: urllib3\n",
      "    Found existing installation: urllib3 2.0.4\n",
      "    Uninstalling urllib3-2.0.4:\n",
      "      Successfully uninstalled urllib3-2.0.4\n",
      "  Attempting uninstall: anyio\n",
      "    Found existing installation: anyio 4.0.0\n",
      "    Uninstalling anyio-4.0.0:\n",
      "      Successfully uninstalled anyio-4.0.0\n",
      "Successfully installed anyio-3.7.1 atlassian-python-api-3.41.3 dataclasses-json-0.6.1 deprecated-1.2.14 distro-1.8.0 h11-0.14.0 html2text-2020.1.16 httpcore-1.0.1 httpx-0.25.1 jsonpatch-1.33 langchain-0.0.331 langsmith-0.0.60 llama-index-0.7.21 llama_hub-0.0.19 marshmallow-3.20.1 mypy-extensions-1.0.0 oauthlib-3.2.2 openai-1.1.1 requests-oauthlib-1.3.1 retrying-1.3.4 sqlalchemy-2.0.23 typing-inspect-0.9.0 urllib3-1.26.18 wrapt-1.15.0\n"
     ]
    }
   ],
   "source": [
    "!pip install llama-index==0.7.21 llama_hub==0.0.19 openai==0.27.0 sentence-transformers"
   ]
  },
  {
   "cell_type": "code",
   "execution_count": 1,
   "id": "608d5a7b-4d87-45de-b4ec-9076d2820140",
   "metadata": {
    "execution": {
     "iopub.execute_input": "2023-11-08T02:30:45.858059Z",
     "iopub.status.busy": "2023-11-08T02:30:45.855448Z",
     "iopub.status.idle": "2023-11-08T02:30:47.132778Z",
     "shell.execute_reply": "2023-11-08T02:30:47.132440Z",
     "shell.execute_reply.started": "2023-11-08T02:30:45.857999Z"
    }
   },
   "outputs": [
    {
     "name": "stderr",
     "output_type": "stream",
     "text": [
      "/opt/homebrew/Caskroom/miniforge/base/envs/RAG/lib/python3.10/site-packages/tqdm/auto.py:21: TqdmWarning: IProgress not found. Please update jupyter and ipywidgets. See https://ipywidgets.readthedocs.io/en/stable/user_install.html\n",
      "  from .autonotebook import tqdm as notebook_tqdm\n"
     ]
    }
   ],
   "source": [
    "# Import transformer classes for generaiton\n",
    "from transformers import AutoTokenizer, AutoModelForCausalLM, TextStreamer\n",
    "# Import torch for datatype attributes \n",
    "import torch\n",
    "import json"
   ]
  },
  {
   "cell_type": "code",
   "execution_count": 4,
   "id": "ac75f603-5038-4218-a2af-3602078c4ccb",
   "metadata": {
    "execution": {
     "iopub.execute_input": "2023-11-08T02:32:05.323300Z",
     "iopub.status.busy": "2023-11-08T02:32:05.322769Z",
     "iopub.status.idle": "2023-11-08T02:32:05.329189Z",
     "shell.execute_reply": "2023-11-08T02:32:05.328634Z",
     "shell.execute_reply.started": "2023-11-08T02:32:05.323270Z"
    }
   },
   "outputs": [],
   "source": [
    "with open(\"./secrets.json\", \"r\") as file:\n",
    "    secrets = json.load(file)"
   ]
  },
  {
   "cell_type": "code",
   "execution_count": 2,
   "id": "f1e5b368-3d12-4f01-b82c-90bd6c2ee550",
   "metadata": {},
   "outputs": [],
   "source": [
    "# Define variable to hold llama2 weights naming \n",
    "name = \"daryl149/llama-2-7b-chat-hf\"\n",
    "\n",
    "# Set auth token variable from hugging face \n",
    "auth_token = secrets['HUGGINGFACE_AUTH_TOKEN']\n",
    "pinecone_key = secrets['PINECONE_KEY']"
   ]
  },
  {
   "cell_type": "code",
   "execution_count": 3,
   "id": "debc026b-6bba-4f4b-bfd8-6170b1e9e9fa",
   "metadata": {},
   "outputs": [
    {
     "name": "stderr",
     "output_type": "stream",
     "text": [
      "/opt/homebrew/Caskroom/miniforge/base/envs/RAG/lib/python3.10/site-packages/transformers/models/auto/tokenization_auto.py:631: FutureWarning: The `use_auth_token` argument is deprecated and will be removed in v5 of Transformers.\n",
      "  warnings.warn(\n"
     ]
    }
   ],
   "source": [
    "# Create tokenizer\n",
    "tokenizer = AutoTokenizer.from_pretrained(name, \n",
    "    cache_dir='./model/', use_auth_token=auth_token)"
   ]
  },
  {
   "cell_type": "code",
   "execution_count": 4,
   "id": "15bcbcb6-8d79-4ece-87cb-467e1c11d6e7",
   "metadata": {},
   "outputs": [],
   "source": [
    "# Set torch device\n",
    "device = \"mps\""
   ]
  },
  {
   "cell_type": "code",
   "execution_count": 5,
   "id": "0c443330-6039-466b-b023-9016d97e3860",
   "metadata": {
    "scrolled": true
   },
   "outputs": [
    {
     "name": "stderr",
     "output_type": "stream",
     "text": [
      "/opt/homebrew/Caskroom/miniforge/base/envs/RAG/lib/python3.10/site-packages/transformers/models/auto/auto_factory.py:460: FutureWarning: The `use_auth_token` argument is deprecated and will be removed in v5 of Transformers.\n",
      "  warnings.warn(\n",
      "Loading checkpoint shards: 100%|██████████████████████████████████████████████████████████████| 2/2 [00:48<00:00, 24.42s/it]\n",
      "/opt/homebrew/Caskroom/miniforge/base/envs/RAG/lib/python3.10/site-packages/transformers/utils/hub.py:373: FutureWarning: The `use_auth_token` argument is deprecated and will be removed in v5 of Transformers.\n",
      "  warnings.warn(\n"
     ]
    }
   ],
   "source": [
    "# Create model\n",
    "model = AutoModelForCausalLM.from_pretrained(name, \n",
    "    cache_dir='./model/', use_auth_token=auth_token, torch_dtype=torch.float16, \n",
    "    rope_scaling={\"type\": \"dynamic\", \"factor\": 2}, load_in_8bit=False).to(device)"
   ]
  },
  {
   "cell_type": "code",
   "execution_count": 6,
   "id": "0685d328-97e0-452d-8d08-b9cf955a756f",
   "metadata": {},
   "outputs": [],
   "source": [
    "# Setup a prompt \n",
    "prompt = \"### User:What is the fastest car in  \\\n",
    "          the world and how much does it cost? \\\n",
    "          ### Assistant:\"\n",
    "# Pass the prompt to the tokenizer\n",
    "inputs = tokenizer(prompt, return_tensors=\"pt\").to(device)   # model.device\n",
    "# Setup the text streamer \n",
    "streamer = TextStreamer(tokenizer, skip_prompt=True, skip_special_tokens=True)"
   ]
  },
  {
   "cell_type": "code",
   "execution_count": 7,
   "id": "8e982dc5-a7ce-4256-998c-cc1b754ec105",
   "metadata": {},
   "outputs": [
    {
     "name": "stdout",
     "output_type": "stream",
     "text": [
      "The fastest car in the world is the Bugatti Chiron Super Sport 300+, which has a top speed of 330 miles per hour (mph) and a price tag of around $3.\n",
      "\n",
      "\n",
      "\n",
      "\n",
      "\n"
     ]
    }
   ],
   "source": [
    "# Actually run the thing\n",
    "output = model.generate(**inputs, streamer=streamer, \n",
    "                        use_cache=True, max_new_tokens=float('inf'))"
   ]
  },
  {
   "cell_type": "code",
   "execution_count": 8,
   "id": "21df23be-783d-4bed-bafd-f0d25890f2bf",
   "metadata": {},
   "outputs": [],
   "source": [
    "# Covert the output tokens back to text \n",
    "output_text = tokenizer.decode(output[0], skip_special_tokens=True)"
   ]
  },
  {
   "cell_type": "code",
   "execution_count": 9,
   "id": "487f9fde-a945-4175-a927-01e6a5470aba",
   "metadata": {},
   "outputs": [],
   "source": [
    "# Import the prompt wrapper...but for llama index\n",
    "from llama_index.prompts.prompts import SimpleInputPrompt"
   ]
  },
  {
   "cell_type": "code",
   "execution_count": 10,
   "id": "8c3a3a7e-3692-4fb6-86d5-d2a8be7a0542",
   "metadata": {},
   "outputs": [],
   "source": [
    "# Create a system prompt \n",
    "system_prompt = \"\"\"[INST] <>\n",
    "You are a helpful, respectful and honest assistant. Always answer as \n",
    "helpfully as possible, while being safe. Your answers should not include\n",
    "any harmful, unethical, racist, sexist, toxic, dangerous, or illegal content.\n",
    "Please ensure that your responses are socially unbiased and positive in nature.\n",
    "\n",
    "If a question does not make any sense, or is not factually coherent, explain \n",
    "why instead of answering something not correct. If you don't know the answer \n",
    "to a question, please don't share false information.\n",
    "\n",
    "Your goal is to provide answers relating to the financial performance of \n",
    "the company.<>\n",
    "\"\"\"\n",
    "# Throw together the query wrapper\n",
    "query_wrapper_prompt = SimpleInputPrompt(\"{query_str} [/INST]\")"
   ]
  },
  {
   "cell_type": "code",
   "execution_count": 11,
   "id": "98682101-c423-4279-9ee1-d27e098901cf",
   "metadata": {},
   "outputs": [
    {
     "data": {
      "text/plain": [
       "'hello [/INST]'"
      ]
     },
     "execution_count": 11,
     "metadata": {},
     "output_type": "execute_result"
    }
   ],
   "source": [
    "# Complete the query prompt\n",
    "query_wrapper_prompt.format(query_str='hello')"
   ]
  },
  {
   "cell_type": "code",
   "execution_count": 12,
   "id": "cf66d5f2-35b9-4b8e-82d4-116351f78114",
   "metadata": {},
   "outputs": [],
   "source": [
    "# Import the llama index HF Wrapper\n",
    "from llama_index.llms import HuggingFaceLLM\n",
    "# Create a HF LLM using the llama index wrapper \n",
    "llm = HuggingFaceLLM(context_window=4096,\n",
    "                    max_new_tokens=256,\n",
    "                    system_prompt=system_prompt,\n",
    "                    query_wrapper_prompt=query_wrapper_prompt,\n",
    "                    model=model,\n",
    "                    tokenizer=tokenizer)"
   ]
  },
  {
   "cell_type": "code",
   "execution_count": 13,
   "id": "59af2c83-1848-4b28-bda9-9855eebeb969",
   "metadata": {},
   "outputs": [],
   "source": [
    "# Bring in embeddings wrapper\n",
    "from llama_index.embeddings import LangchainEmbedding\n",
    "# Bring in HF embeddings - need these to represent document chunks\n",
    "from langchain.embeddings.huggingface import HuggingFaceEmbeddings"
   ]
  },
  {
   "cell_type": "code",
   "execution_count": 14,
   "id": "8961b53b-4a3c-43c0-b1bb-ba1e34ef927f",
   "metadata": {},
   "outputs": [
    {
     "name": "stdout",
     "output_type": "stream",
     "text": [
      "huggingface/tokenizers: The current process just got forked, after parallelism has already been used. Disabling parallelism to avoid deadlocks...\n",
      "To disable this warning, you can either:\n",
      "\t- Avoid using `tokenizers` before the fork if possible\n",
      "\t- Explicitly set the environment variable TOKENIZERS_PARALLELISM=(true | false)\n"
     ]
    }
   ],
   "source": [
    "# Create and dl embeddings instance  \n",
    "embeddings=LangchainEmbedding(\n",
    "    HuggingFaceEmbeddings(model_name=\"all-MiniLM-L6-v2\")\n",
    ")"
   ]
  },
  {
   "cell_type": "code",
   "execution_count": 15,
   "id": "f7b859a4-bc5c-4f2d-9691-db8f49a8cc97",
   "metadata": {},
   "outputs": [],
   "source": [
    "# Bring in stuff to change service context\n",
    "from llama_index import set_global_service_context\n",
    "from llama_index import ServiceContext"
   ]
  },
  {
   "cell_type": "code",
   "execution_count": 16,
   "id": "8f595ab6-5ac5-4aa7-a771-84a353b63997",
   "metadata": {},
   "outputs": [],
   "source": [
    "# Create new service context instance\n",
    "service_context = ServiceContext.from_defaults(\n",
    "    chunk_size=1024,\n",
    "    llm=llm,\n",
    "    embed_model=embeddings\n",
    ")\n",
    "# And set the service context\n",
    "set_global_service_context(service_context)"
   ]
  },
  {
   "cell_type": "code",
   "execution_count": 17,
   "id": "66686302-540e-41d6-903a-539f889fb630",
   "metadata": {},
   "outputs": [],
   "source": [
    "# Import deps to load documents \n",
    "from llama_index import VectorStoreIndex, download_loader\n",
    "from pathlib import Path\n",
    "\n",
    "# Download PDF Loader \n",
    "PyMuPDFReader = download_loader(\"PyMuPDFReader\")\n",
    "# Create PDF Loader\n",
    "loader = PyMuPDFReader()\n",
    "# Load documents \n",
    "documents = loader.load(file_path=Path('../data/퇴직연금/개인형 퇴직연금 IRP계좌 세액공제, 해지 세금, 수령방법 _ 네이버 블로그.pdf'), metadata=True)"
   ]
  },
  {
   "cell_type": "code",
   "execution_count": 18,
   "id": "c5cbb628-4d7c-493a-8612-18d9799fa664",
   "metadata": {},
   "outputs": [],
   "source": [
    "# Create an index - we'll be able to query this in a sec\n",
    "index = VectorStoreIndex.from_documents(documents)"
   ]
  },
  {
   "cell_type": "code",
   "execution_count": 19,
   "id": "cf1775ee-ce14-443a-90e8-8519dce1bf87",
   "metadata": {},
   "outputs": [],
   "source": [
    "# Setup index query engine using LLM \n",
    "query_engine = index.as_query_engine()"
   ]
  },
  {
   "cell_type": "code",
   "execution_count": 20,
   "id": "26ee8b39-309b-4085-b53c-2e3ab19125cf",
   "metadata": {},
   "outputs": [],
   "source": [
    "# Test out a query in natural\n",
    "response = query_engine.query(\"근로자퇴직급여 보장법의 목적은?\")"
   ]
  },
  {
   "cell_type": "code",
   "execution_count": 21,
   "id": "1afac94f-5f42-4cf8-9c8c-c838d2e19512",
   "metadata": {},
   "outputs": [
    {
     "data": {
      "text/plain": [
       "Response(response=\" Based on the new context provided, the purpose of the labor pension insurance (근로자퇴직급여 보장법) in South Korea can be further refined as follows:\\n1. Financial support: The insurance provides a stable source of income during retirement, helping employees to cover their living expenses and maintain their financial stability.\\n2. Income replacement: The insurance aims to replace a portion of the employee's pre-retirement income, allowing them to maintain their living standards and enjoy their post-work years with financial security.\\n3. Protection against poverty: By providing a stable source of income during retirement, the insurance helps to protect employees from poverty and financial insecurity during their post-work years.\\nIn addition, the insurance also provides other benefits, such as:\\n4. Tax benefits: The insurance can provide tax benefits to employees, such as reducing their tax burden and increasing their disposable income.\\n5. Financial planning: The insurance can help employees plan their finances and make informed decisions about their retirement savings, ensuring that they are able to enjoy their\", source_nodes=[NodeWithScore(node=TextNode(id_='0b1a3cfd-b89a-481e-95ed-7e3a572c795d', embedding=None, metadata={'total_pages': 8, 'file_path': PosixPath('../data/퇴직연금/개인형 퇴직연금 IRP계좌 세액공제, 해지 세금, 수령방법 _ 네이버 블로그.pdf'), 'source': '6'}, excluded_embed_metadata_keys=[], excluded_llm_metadata_keys=[], relationships={<NodeRelationship.SOURCE: '1'>: RelatedNodeInfo(node_id='8c8ec7fe-a48d-47e9-988f-27f17be3361e', node_type=None, metadata={'total_pages': 8, 'file_path': PosixPath('../data/퇴직연금/개인형 퇴직연금 IRP계좌 세액공제, 해지 세금, 수령방법 _ 네이버 블로그.pdf'), 'source': '6'}, hash='1a0542206da0fd70fa0618f8eb8f0b9e227902b053b21ad7c75a601d3c5364cf')}, hash='bb4689177dd25e61cd09e07f3458fc5b50e0405efff51c720a1ccad539612f69', text='IRP계좌해지�세금\\n근로소득�6천만원인�사람이�개인형�퇴직연금�IRP에�연간�700만원을�납입하고�2%의�운용수익(14만원)을�\\n봤다고�가정해보자.�\\n납입기간에�받을�수�있는�세액공제는�924,000원에�운용수익�14만원을�더해�1,064,000원의�혜택을�받을�\\n수�있다.\\n이를�55세�이후�연금으로�수령하면�세액공제�받은�납입금액�700만원과�운용수익�2%에�5.5%의�연금소득\\n세가�부과되고�세후�수익은�671,000원이�된다.�\\n하지만�중도�해지하면�납입금액과�운용수익에�16.5%의�IRP�해지�세금으로�1,178,000원이�부과되어�납입\\n시�받았던�혜택과�비교해�114,000원을�손해보게�된다.�\\n지니부부의�돈�관리\\n이�블로그에서�검색\\n공감 14\\n댓글�3', start_char_idx=0, end_char_idx=373, text_template='{metadata_str}\\n\\n{content}', metadata_template='{key}: {value}', metadata_seperator='\\n'), score=0.4786944762925138), NodeWithScore(node=TextNode(id_='0058acd0-c63a-40ba-9b50-1c3411107c1e', embedding=None, metadata={'total_pages': 8, 'file_path': PosixPath('../data/퇴직연금/개인형 퇴직연금 IRP계좌 세액공제, 해지 세금, 수령방법 _ 네이버 블로그.pdf'), 'source': '5'}, excluded_embed_metadata_keys=[], excluded_llm_metadata_keys=[], relationships={<NodeRelationship.SOURCE: '1'>: RelatedNodeInfo(node_id='781abc01-a639-402c-adb8-df185372ba27', node_type=None, metadata={'total_pages': 8, 'file_path': PosixPath('../data/퇴직연금/개인형 퇴직연금 IRP계좌 세액공제, 해지 세금, 수령방법 _ 네이버 블로그.pdf'), 'source': '5'}, hash='af7baad2e8cb2773d2e7798ece0b9e2f4eea42bd51912caed8279e88d86be6c0')}, hash='546b8f30d87862d30b8ba5a3eec5fd68a425aee642ab9e8d911870cb97d5da1c', text='개인형�퇴직연금�IRP�절세혜택�(출처�:�신한투자증권)\\nIRP�퇴직연금�수령�시�저율과세\\n과세이연된�세금은�55세�이후�10년간�IRP�퇴직연금�수령�시�납부할�세금에�대해�저율과세를�적용해�절세�혜\\n택을�누릴�수�있다.\\n퇴직소득세의�70%만�부과\\n이자·배당소득세�면제,��연금소득세�3.3~5.5%부과�(55~69세�5.5%,�70~79세�4.4%,�79세�초과�\\n3.3%)\\nIRP�계좌�해지�세금�\\n퇴직연금�세액공제를�받고�특별한�사유�없이�IRP�해지�세금으로��세액공제를�받은�납입금액과�운용수익에�\\n16.5%의�기타소득세를�납부해야�한다.�\\n지니부부의�돈�관리\\n이�블로그에서�검색\\n공감 14\\n댓글�3', start_char_idx=0, end_char_idx=341, text_template='{metadata_str}\\n\\n{content}', metadata_template='{key}: {value}', metadata_seperator='\\n'), score=0.47578139766167926)], metadata={'0b1a3cfd-b89a-481e-95ed-7e3a572c795d': {'total_pages': 8, 'file_path': PosixPath('../data/퇴직연금/개인형 퇴직연금 IRP계좌 세액공제, 해지 세금, 수령방법 _ 네이버 블로그.pdf'), 'source': '6'}, '0058acd0-c63a-40ba-9b50-1c3411107c1e': {'total_pages': 8, 'file_path': PosixPath('../data/퇴직연금/개인형 퇴직연금 IRP계좌 세액공제, 해지 세금, 수령방법 _ 네이버 블로그.pdf'), 'source': '5'}})"
      ]
     },
     "execution_count": 21,
     "metadata": {},
     "output_type": "execute_result"
    }
   ],
   "source": [
    "response"
   ]
  },
  {
   "cell_type": "code",
   "execution_count": 23,
   "id": "1a9712a8-f398-4de7-9681-07968b450362",
   "metadata": {},
   "outputs": [
    {
     "name": "stdout",
     "output_type": "stream",
     "text": [
      " Based on the new context provided, the purpose of the labor pension insurance (근로자퇴직급여 보장법) in South Korea can be further refined as follows:\n",
      "1. Financial support: The insurance provides a stable source of income during retirement, helping employees to cover their living expenses and maintain their financial stability.\n",
      "2. Income replacement: The insurance aims to replace a portion of the employee's pre-retirement income, allowing them to maintain their living standards and enjoy their post-work years with financial security.\n",
      "3. Protection against poverty: By providing a stable source of income during retirement, the insurance helps to protect employees from poverty and financial insecurity during their post-work years.\n",
      "In addition, the insurance also provides other benefits, such as:\n",
      "4. Tax benefits: The insurance can provide tax benefits to employees, such as reducing their tax burden and increasing their disposable income.\n",
      "5. Financial planning: The insurance can help employees plan their finances and make informed decisions about their retirement savings, ensuring that they are able to enjoy their\n"
     ]
    }
   ],
   "source": [
    "print(response.response)"
   ]
  },
  {
   "cell_type": "code",
   "execution_count": null,
   "id": "87c7df5e-1b37-4cc8-8e6d-37c3a226a464",
   "metadata": {},
   "outputs": [],
   "source": []
  }
 ],
 "metadata": {
  "kernelspec": {
   "display_name": "RAG",
   "language": "python",
   "name": "rag"
  },
  "language_info": {
   "codemirror_mode": {
    "name": "ipython",
    "version": 3
   },
   "file_extension": ".py",
   "mimetype": "text/x-python",
   "name": "python",
   "nbconvert_exporter": "python",
   "pygments_lexer": "ipython3",
   "version": "3.10.12"
  }
 },
 "nbformat": 4,
 "nbformat_minor": 5
}
